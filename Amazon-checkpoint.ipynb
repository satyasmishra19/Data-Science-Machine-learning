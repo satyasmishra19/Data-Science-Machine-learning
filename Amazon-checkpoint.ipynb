{
 "cells": [
  {
   "cell_type": "code",
   "execution_count": 126,
   "id": "f92f635c",
   "metadata": {},
   "outputs": [],
   "source": [
    "import pandas as pd\n",
    "import numpy as np\n",
    "import matplotlib.pyplot as plt\n",
    "import seaborn as sb\n",
    "%matplotlib inline"
   ]
  },
  {
   "cell_type": "code",
   "execution_count": 127,
   "id": "72c9b4dd",
   "metadata": {},
   "outputs": [],
   "source": [
    "A = pd.read_csv(r\"C:\\DS&AI\\Amazon\\Amazon.csv\")"
   ]
  },
  {
   "cell_type": "code",
   "execution_count": 128,
   "id": "eb2692d7",
   "metadata": {},
   "outputs": [
    {
     "data": {
      "text/html": [
       "<div>\n",
       "<style scoped>\n",
       "    .dataframe tbody tr th:only-of-type {\n",
       "        vertical-align: middle;\n",
       "    }\n",
       "\n",
       "    .dataframe tbody tr th {\n",
       "        vertical-align: top;\n",
       "    }\n",
       "\n",
       "    .dataframe thead th {\n",
       "        text-align: right;\n",
       "    }\n",
       "</style>\n",
       "<table border=\"1\" class=\"dataframe\">\n",
       "  <thead>\n",
       "    <tr style=\"text-align: right;\">\n",
       "      <th></th>\n",
       "      <th>id</th>\n",
       "      <th>asins</th>\n",
       "      <th>brand</th>\n",
       "      <th>categories</th>\n",
       "      <th>colors</th>\n",
       "      <th>dateAdded</th>\n",
       "      <th>dateUpdated</th>\n",
       "      <th>dimension</th>\n",
       "      <th>ean</th>\n",
       "      <th>keys</th>\n",
       "      <th>...</th>\n",
       "      <th>reviews.rating</th>\n",
       "      <th>reviews.sourceURLs</th>\n",
       "      <th>reviews.text</th>\n",
       "      <th>reviews.title</th>\n",
       "      <th>reviews.userCity</th>\n",
       "      <th>reviews.userProvince</th>\n",
       "      <th>reviews.username</th>\n",
       "      <th>sizes</th>\n",
       "      <th>upc</th>\n",
       "      <th>weight</th>\n",
       "    </tr>\n",
       "  </thead>\n",
       "  <tbody>\n",
       "    <tr>\n",
       "      <th>0</th>\n",
       "      <td>AVpe7AsMilAPnD_xQ78G</td>\n",
       "      <td>B00QJDU3KY</td>\n",
       "      <td>Amazon</td>\n",
       "      <td>Amazon Devices,mazon.co.uk</td>\n",
       "      <td>NaN</td>\n",
       "      <td>2016-03-08T20:21:53Z</td>\n",
       "      <td>2017-07-18T23:52:58Z</td>\n",
       "      <td>169 mm x 117 mm x 9.1 mm</td>\n",
       "      <td>NaN</td>\n",
       "      <td>kindlepaperwhite/b00qjdu3ky</td>\n",
       "      <td>...</td>\n",
       "      <td>5.0</td>\n",
       "      <td>https://www.amazon.com/Kindle-Paperwhite-High-...</td>\n",
       "      <td>I initially had trouble deciding between the p...</td>\n",
       "      <td>Paperwhite voyage, no regrets!</td>\n",
       "      <td>NaN</td>\n",
       "      <td>NaN</td>\n",
       "      <td>Cristina M</td>\n",
       "      <td>NaN</td>\n",
       "      <td>NaN</td>\n",
       "      <td>205 grams</td>\n",
       "    </tr>\n",
       "    <tr>\n",
       "      <th>1</th>\n",
       "      <td>AVpe7AsMilAPnD_xQ78G</td>\n",
       "      <td>B00QJDU3KY</td>\n",
       "      <td>Amazon</td>\n",
       "      <td>Amazon Devices,mazon.co.uk</td>\n",
       "      <td>NaN</td>\n",
       "      <td>2016-03-08T20:21:53Z</td>\n",
       "      <td>2017-07-18T23:52:58Z</td>\n",
       "      <td>169 mm x 117 mm x 9.1 mm</td>\n",
       "      <td>NaN</td>\n",
       "      <td>kindlepaperwhite/b00qjdu3ky</td>\n",
       "      <td>...</td>\n",
       "      <td>5.0</td>\n",
       "      <td>https://www.amazon.com/Kindle-Paperwhite-High-...</td>\n",
       "      <td>Allow me to preface this with a little history...</td>\n",
       "      <td>One Simply Could Not Ask For More</td>\n",
       "      <td>NaN</td>\n",
       "      <td>NaN</td>\n",
       "      <td>Ricky</td>\n",
       "      <td>NaN</td>\n",
       "      <td>NaN</td>\n",
       "      <td>205 grams</td>\n",
       "    </tr>\n",
       "    <tr>\n",
       "      <th>2</th>\n",
       "      <td>AVpe7AsMilAPnD_xQ78G</td>\n",
       "      <td>B00QJDU3KY</td>\n",
       "      <td>Amazon</td>\n",
       "      <td>Amazon Devices,mazon.co.uk</td>\n",
       "      <td>NaN</td>\n",
       "      <td>2016-03-08T20:21:53Z</td>\n",
       "      <td>2017-07-18T23:52:58Z</td>\n",
       "      <td>169 mm x 117 mm x 9.1 mm</td>\n",
       "      <td>NaN</td>\n",
       "      <td>kindlepaperwhite/b00qjdu3ky</td>\n",
       "      <td>...</td>\n",
       "      <td>4.0</td>\n",
       "      <td>https://www.amazon.com/Kindle-Paperwhite-High-...</td>\n",
       "      <td>I am enjoying it so far. Great for reading. Ha...</td>\n",
       "      <td>Great for those that just want an e-reader</td>\n",
       "      <td>NaN</td>\n",
       "      <td>NaN</td>\n",
       "      <td>Tedd Gardiner</td>\n",
       "      <td>NaN</td>\n",
       "      <td>NaN</td>\n",
       "      <td>205 grams</td>\n",
       "    </tr>\n",
       "    <tr>\n",
       "      <th>3</th>\n",
       "      <td>AVpe7AsMilAPnD_xQ78G</td>\n",
       "      <td>B00QJDU3KY</td>\n",
       "      <td>Amazon</td>\n",
       "      <td>Amazon Devices,mazon.co.uk</td>\n",
       "      <td>NaN</td>\n",
       "      <td>2016-03-08T20:21:53Z</td>\n",
       "      <td>2017-07-18T23:52:58Z</td>\n",
       "      <td>169 mm x 117 mm x 9.1 mm</td>\n",
       "      <td>NaN</td>\n",
       "      <td>kindlepaperwhite/b00qjdu3ky</td>\n",
       "      <td>...</td>\n",
       "      <td>5.0</td>\n",
       "      <td>https://www.amazon.com/Kindle-Paperwhite-High-...</td>\n",
       "      <td>I bought one of the first Paperwhites and have...</td>\n",
       "      <td>Love / Hate relationship</td>\n",
       "      <td>NaN</td>\n",
       "      <td>NaN</td>\n",
       "      <td>Dougal</td>\n",
       "      <td>NaN</td>\n",
       "      <td>NaN</td>\n",
       "      <td>205 grams</td>\n",
       "    </tr>\n",
       "    <tr>\n",
       "      <th>4</th>\n",
       "      <td>AVpe7AsMilAPnD_xQ78G</td>\n",
       "      <td>B00QJDU3KY</td>\n",
       "      <td>Amazon</td>\n",
       "      <td>Amazon Devices,mazon.co.uk</td>\n",
       "      <td>NaN</td>\n",
       "      <td>2016-03-08T20:21:53Z</td>\n",
       "      <td>2017-07-18T23:52:58Z</td>\n",
       "      <td>169 mm x 117 mm x 9.1 mm</td>\n",
       "      <td>NaN</td>\n",
       "      <td>kindlepaperwhite/b00qjdu3ky</td>\n",
       "      <td>...</td>\n",
       "      <td>5.0</td>\n",
       "      <td>https://www.amazon.com/Kindle-Paperwhite-High-...</td>\n",
       "      <td>I have to say upfront - I don't like coroporat...</td>\n",
       "      <td>I LOVE IT</td>\n",
       "      <td>NaN</td>\n",
       "      <td>NaN</td>\n",
       "      <td>Miljan David Tanic</td>\n",
       "      <td>NaN</td>\n",
       "      <td>NaN</td>\n",
       "      <td>205 grams</td>\n",
       "    </tr>\n",
       "  </tbody>\n",
       "</table>\n",
       "<p>5 rows × 27 columns</p>\n",
       "</div>"
      ],
      "text/plain": [
       "                     id       asins   brand                  categories  \\\n",
       "0  AVpe7AsMilAPnD_xQ78G  B00QJDU3KY  Amazon  Amazon Devices,mazon.co.uk   \n",
       "1  AVpe7AsMilAPnD_xQ78G  B00QJDU3KY  Amazon  Amazon Devices,mazon.co.uk   \n",
       "2  AVpe7AsMilAPnD_xQ78G  B00QJDU3KY  Amazon  Amazon Devices,mazon.co.uk   \n",
       "3  AVpe7AsMilAPnD_xQ78G  B00QJDU3KY  Amazon  Amazon Devices,mazon.co.uk   \n",
       "4  AVpe7AsMilAPnD_xQ78G  B00QJDU3KY  Amazon  Amazon Devices,mazon.co.uk   \n",
       "\n",
       "  colors             dateAdded           dateUpdated  \\\n",
       "0    NaN  2016-03-08T20:21:53Z  2017-07-18T23:52:58Z   \n",
       "1    NaN  2016-03-08T20:21:53Z  2017-07-18T23:52:58Z   \n",
       "2    NaN  2016-03-08T20:21:53Z  2017-07-18T23:52:58Z   \n",
       "3    NaN  2016-03-08T20:21:53Z  2017-07-18T23:52:58Z   \n",
       "4    NaN  2016-03-08T20:21:53Z  2017-07-18T23:52:58Z   \n",
       "\n",
       "                  dimension  ean                         keys  ...  \\\n",
       "0  169 mm x 117 mm x 9.1 mm  NaN  kindlepaperwhite/b00qjdu3ky  ...   \n",
       "1  169 mm x 117 mm x 9.1 mm  NaN  kindlepaperwhite/b00qjdu3ky  ...   \n",
       "2  169 mm x 117 mm x 9.1 mm  NaN  kindlepaperwhite/b00qjdu3ky  ...   \n",
       "3  169 mm x 117 mm x 9.1 mm  NaN  kindlepaperwhite/b00qjdu3ky  ...   \n",
       "4  169 mm x 117 mm x 9.1 mm  NaN  kindlepaperwhite/b00qjdu3ky  ...   \n",
       "\n",
       "  reviews.rating                                 reviews.sourceURLs  \\\n",
       "0            5.0  https://www.amazon.com/Kindle-Paperwhite-High-...   \n",
       "1            5.0  https://www.amazon.com/Kindle-Paperwhite-High-...   \n",
       "2            4.0  https://www.amazon.com/Kindle-Paperwhite-High-...   \n",
       "3            5.0  https://www.amazon.com/Kindle-Paperwhite-High-...   \n",
       "4            5.0  https://www.amazon.com/Kindle-Paperwhite-High-...   \n",
       "\n",
       "                                        reviews.text  \\\n",
       "0  I initially had trouble deciding between the p...   \n",
       "1  Allow me to preface this with a little history...   \n",
       "2  I am enjoying it so far. Great for reading. Ha...   \n",
       "3  I bought one of the first Paperwhites and have...   \n",
       "4  I have to say upfront - I don't like coroporat...   \n",
       "\n",
       "                                reviews.title reviews.userCity  \\\n",
       "0              Paperwhite voyage, no regrets!              NaN   \n",
       "1           One Simply Could Not Ask For More              NaN   \n",
       "2  Great for those that just want an e-reader              NaN   \n",
       "3                    Love / Hate relationship              NaN   \n",
       "4                                   I LOVE IT              NaN   \n",
       "\n",
       "  reviews.userProvince    reviews.username  sizes upc     weight  \n",
       "0                  NaN          Cristina M    NaN NaN  205 grams  \n",
       "1                  NaN               Ricky    NaN NaN  205 grams  \n",
       "2                  NaN       Tedd Gardiner    NaN NaN  205 grams  \n",
       "3                  NaN              Dougal    NaN NaN  205 grams  \n",
       "4                  NaN  Miljan David Tanic    NaN NaN  205 grams  \n",
       "\n",
       "[5 rows x 27 columns]"
      ]
     },
     "execution_count": 128,
     "metadata": {},
     "output_type": "execute_result"
    }
   ],
   "source": [
    "A.head()"
   ]
  },
  {
   "cell_type": "code",
   "execution_count": 129,
   "id": "8e3629e1",
   "metadata": {},
   "outputs": [
    {
     "data": {
      "text/html": [
       "<div>\n",
       "<style scoped>\n",
       "    .dataframe tbody tr th:only-of-type {\n",
       "        vertical-align: middle;\n",
       "    }\n",
       "\n",
       "    .dataframe tbody tr th {\n",
       "        vertical-align: top;\n",
       "    }\n",
       "\n",
       "    .dataframe thead th {\n",
       "        text-align: right;\n",
       "    }\n",
       "</style>\n",
       "<table border=\"1\" class=\"dataframe\">\n",
       "  <thead>\n",
       "    <tr style=\"text-align: right;\">\n",
       "      <th></th>\n",
       "      <th>id</th>\n",
       "      <th>asins</th>\n",
       "      <th>brand</th>\n",
       "      <th>categories</th>\n",
       "      <th>colors</th>\n",
       "      <th>dateAdded</th>\n",
       "      <th>dateUpdated</th>\n",
       "      <th>dimension</th>\n",
       "      <th>ean</th>\n",
       "      <th>keys</th>\n",
       "      <th>...</th>\n",
       "      <th>reviews.rating</th>\n",
       "      <th>reviews.sourceURLs</th>\n",
       "      <th>reviews.text</th>\n",
       "      <th>reviews.title</th>\n",
       "      <th>reviews.userCity</th>\n",
       "      <th>reviews.userProvince</th>\n",
       "      <th>reviews.username</th>\n",
       "      <th>sizes</th>\n",
       "      <th>upc</th>\n",
       "      <th>weight</th>\n",
       "    </tr>\n",
       "  </thead>\n",
       "  <tbody>\n",
       "    <tr>\n",
       "      <th>1592</th>\n",
       "      <td>AVpfo9ukilAPnD_xfhuj</td>\n",
       "      <td>B00NO8JJZW</td>\n",
       "      <td>Amazon</td>\n",
       "      <td>Amazon Devices &amp; Accessories,Amazon Device Acc...</td>\n",
       "      <td>NaN</td>\n",
       "      <td>2016-04-02T14:40:43Z</td>\n",
       "      <td>2017-08-13T08:28:46Z</td>\n",
       "      <td>NaN</td>\n",
       "      <td>NaN</td>\n",
       "      <td>alexavoiceremoteforamazonfiretvfiretvstick/b00...</td>\n",
       "      <td>...</td>\n",
       "      <td>3.0</td>\n",
       "      <td>https://www.amazon.com/Alexa-Voice-Remote-Amaz...</td>\n",
       "      <td>This is not the same remote that I got for my ...</td>\n",
       "      <td>I would be disappointed with myself if i produ...</td>\n",
       "      <td>NaN</td>\n",
       "      <td>NaN</td>\n",
       "      <td>GregAmandawith4</td>\n",
       "      <td>NaN</td>\n",
       "      <td>NaN</td>\n",
       "      <td>4 ounces</td>\n",
       "    </tr>\n",
       "    <tr>\n",
       "      <th>1593</th>\n",
       "      <td>AVpfo9ukilAPnD_xfhuj</td>\n",
       "      <td>B00NO8JJZW</td>\n",
       "      <td>Amazon</td>\n",
       "      <td>Amazon Devices &amp; Accessories,Amazon Device Acc...</td>\n",
       "      <td>NaN</td>\n",
       "      <td>2016-04-02T14:40:43Z</td>\n",
       "      <td>2017-08-13T08:28:46Z</td>\n",
       "      <td>NaN</td>\n",
       "      <td>NaN</td>\n",
       "      <td>alexavoiceremoteforamazonfiretvfiretvstick/b00...</td>\n",
       "      <td>...</td>\n",
       "      <td>1.0</td>\n",
       "      <td>https://www.amazon.com/Alexa-Voice-Remote-Amaz...</td>\n",
       "      <td>I have had to change the batteries in this rem...</td>\n",
       "      <td>Battery draining remote!!!!</td>\n",
       "      <td>NaN</td>\n",
       "      <td>NaN</td>\n",
       "      <td>Amazon Customer</td>\n",
       "      <td>NaN</td>\n",
       "      <td>NaN</td>\n",
       "      <td>4 ounces</td>\n",
       "    </tr>\n",
       "    <tr>\n",
       "      <th>1594</th>\n",
       "      <td>AVpfo9ukilAPnD_xfhuj</td>\n",
       "      <td>B00NO8JJZW</td>\n",
       "      <td>Amazon</td>\n",
       "      <td>Amazon Devices &amp; Accessories,Amazon Device Acc...</td>\n",
       "      <td>NaN</td>\n",
       "      <td>2016-04-02T14:40:43Z</td>\n",
       "      <td>2017-08-13T08:28:46Z</td>\n",
       "      <td>NaN</td>\n",
       "      <td>NaN</td>\n",
       "      <td>alexavoiceremoteforamazonfiretvfiretvstick/b00...</td>\n",
       "      <td>...</td>\n",
       "      <td>1.0</td>\n",
       "      <td>https://www.amazon.com/Alexa-Voice-Remote-Amaz...</td>\n",
       "      <td>Remote did not activate, nor did it connect to...</td>\n",
       "      <td>replacing an even worse remote. Waste of time</td>\n",
       "      <td>NaN</td>\n",
       "      <td>NaN</td>\n",
       "      <td>Amazon Customer</td>\n",
       "      <td>NaN</td>\n",
       "      <td>NaN</td>\n",
       "      <td>4 ounces</td>\n",
       "    </tr>\n",
       "    <tr>\n",
       "      <th>1595</th>\n",
       "      <td>AVpfo9ukilAPnD_xfhuj</td>\n",
       "      <td>B00NO8JJZW</td>\n",
       "      <td>Amazon</td>\n",
       "      <td>Amazon Devices &amp; Accessories,Amazon Device Acc...</td>\n",
       "      <td>NaN</td>\n",
       "      <td>2016-04-02T14:40:43Z</td>\n",
       "      <td>2017-08-13T08:28:46Z</td>\n",
       "      <td>NaN</td>\n",
       "      <td>NaN</td>\n",
       "      <td>alexavoiceremoteforamazonfiretvfiretvstick/b00...</td>\n",
       "      <td>...</td>\n",
       "      <td>3.0</td>\n",
       "      <td>https://www.amazon.com/Alexa-Voice-Remote-Amaz...</td>\n",
       "      <td>It does the job but is super over priced. I fe...</td>\n",
       "      <td>Overpriced</td>\n",
       "      <td>NaN</td>\n",
       "      <td>NaN</td>\n",
       "      <td>Meg Ashley</td>\n",
       "      <td>NaN</td>\n",
       "      <td>NaN</td>\n",
       "      <td>4 ounces</td>\n",
       "    </tr>\n",
       "    <tr>\n",
       "      <th>1596</th>\n",
       "      <td>AVpfo9ukilAPnD_xfhuj</td>\n",
       "      <td>B00NO8JJZW</td>\n",
       "      <td>Amazon</td>\n",
       "      <td>Amazon Devices &amp; Accessories,Amazon Device Acc...</td>\n",
       "      <td>NaN</td>\n",
       "      <td>2016-04-02T14:40:43Z</td>\n",
       "      <td>2017-08-13T08:28:46Z</td>\n",
       "      <td>NaN</td>\n",
       "      <td>NaN</td>\n",
       "      <td>alexavoiceremoteforamazonfiretvfiretvstick/b00...</td>\n",
       "      <td>...</td>\n",
       "      <td>1.0</td>\n",
       "      <td>https://www.amazon.com/Alexa-Voice-Remote-Amaz...</td>\n",
       "      <td>I ordered this item to replace the one that no...</td>\n",
       "      <td>I am sending all of this crap back to amazon a...</td>\n",
       "      <td>NaN</td>\n",
       "      <td>NaN</td>\n",
       "      <td>DIANE K</td>\n",
       "      <td>NaN</td>\n",
       "      <td>NaN</td>\n",
       "      <td>4 ounces</td>\n",
       "    </tr>\n",
       "  </tbody>\n",
       "</table>\n",
       "<p>5 rows × 27 columns</p>\n",
       "</div>"
      ],
      "text/plain": [
       "                        id       asins   brand  \\\n",
       "1592  AVpfo9ukilAPnD_xfhuj  B00NO8JJZW  Amazon   \n",
       "1593  AVpfo9ukilAPnD_xfhuj  B00NO8JJZW  Amazon   \n",
       "1594  AVpfo9ukilAPnD_xfhuj  B00NO8JJZW  Amazon   \n",
       "1595  AVpfo9ukilAPnD_xfhuj  B00NO8JJZW  Amazon   \n",
       "1596  AVpfo9ukilAPnD_xfhuj  B00NO8JJZW  Amazon   \n",
       "\n",
       "                                             categories colors  \\\n",
       "1592  Amazon Devices & Accessories,Amazon Device Acc...    NaN   \n",
       "1593  Amazon Devices & Accessories,Amazon Device Acc...    NaN   \n",
       "1594  Amazon Devices & Accessories,Amazon Device Acc...    NaN   \n",
       "1595  Amazon Devices & Accessories,Amazon Device Acc...    NaN   \n",
       "1596  Amazon Devices & Accessories,Amazon Device Acc...    NaN   \n",
       "\n",
       "                 dateAdded           dateUpdated dimension  ean  \\\n",
       "1592  2016-04-02T14:40:43Z  2017-08-13T08:28:46Z       NaN  NaN   \n",
       "1593  2016-04-02T14:40:43Z  2017-08-13T08:28:46Z       NaN  NaN   \n",
       "1594  2016-04-02T14:40:43Z  2017-08-13T08:28:46Z       NaN  NaN   \n",
       "1595  2016-04-02T14:40:43Z  2017-08-13T08:28:46Z       NaN  NaN   \n",
       "1596  2016-04-02T14:40:43Z  2017-08-13T08:28:46Z       NaN  NaN   \n",
       "\n",
       "                                                   keys  ... reviews.rating  \\\n",
       "1592  alexavoiceremoteforamazonfiretvfiretvstick/b00...  ...            3.0   \n",
       "1593  alexavoiceremoteforamazonfiretvfiretvstick/b00...  ...            1.0   \n",
       "1594  alexavoiceremoteforamazonfiretvfiretvstick/b00...  ...            1.0   \n",
       "1595  alexavoiceremoteforamazonfiretvfiretvstick/b00...  ...            3.0   \n",
       "1596  alexavoiceremoteforamazonfiretvfiretvstick/b00...  ...            1.0   \n",
       "\n",
       "                                     reviews.sourceURLs  \\\n",
       "1592  https://www.amazon.com/Alexa-Voice-Remote-Amaz...   \n",
       "1593  https://www.amazon.com/Alexa-Voice-Remote-Amaz...   \n",
       "1594  https://www.amazon.com/Alexa-Voice-Remote-Amaz...   \n",
       "1595  https://www.amazon.com/Alexa-Voice-Remote-Amaz...   \n",
       "1596  https://www.amazon.com/Alexa-Voice-Remote-Amaz...   \n",
       "\n",
       "                                           reviews.text  \\\n",
       "1592  This is not the same remote that I got for my ...   \n",
       "1593  I have had to change the batteries in this rem...   \n",
       "1594  Remote did not activate, nor did it connect to...   \n",
       "1595  It does the job but is super over priced. I fe...   \n",
       "1596  I ordered this item to replace the one that no...   \n",
       "\n",
       "                                          reviews.title reviews.userCity  \\\n",
       "1592  I would be disappointed with myself if i produ...              NaN   \n",
       "1593                        Battery draining remote!!!!              NaN   \n",
       "1594      replacing an even worse remote. Waste of time              NaN   \n",
       "1595                                         Overpriced              NaN   \n",
       "1596  I am sending all of this crap back to amazon a...              NaN   \n",
       "\n",
       "     reviews.userProvince  reviews.username  sizes upc    weight  \n",
       "1592                  NaN   GregAmandawith4    NaN NaN  4 ounces  \n",
       "1593                  NaN   Amazon Customer    NaN NaN  4 ounces  \n",
       "1594                  NaN   Amazon Customer    NaN NaN  4 ounces  \n",
       "1595                  NaN        Meg Ashley    NaN NaN  4 ounces  \n",
       "1596                  NaN           DIANE K    NaN NaN  4 ounces  \n",
       "\n",
       "[5 rows x 27 columns]"
      ]
     },
     "execution_count": 129,
     "metadata": {},
     "output_type": "execute_result"
    }
   ],
   "source": [
    "A.tail()"
   ]
  },
  {
   "cell_type": "code",
   "execution_count": 130,
   "id": "0649d4a1",
   "metadata": {},
   "outputs": [
    {
     "data": {
      "text/plain": [
       "(1597, 27)"
      ]
     },
     "execution_count": 130,
     "metadata": {},
     "output_type": "execute_result"
    }
   ],
   "source": [
    "A.shape"
   ]
  },
  {
   "cell_type": "code",
   "execution_count": 131,
   "id": "8dad6c98",
   "metadata": {},
   "outputs": [
    {
     "data": {
      "text/html": [
       "<div>\n",
       "<style scoped>\n",
       "    .dataframe tbody tr th:only-of-type {\n",
       "        vertical-align: middle;\n",
       "    }\n",
       "\n",
       "    .dataframe tbody tr th {\n",
       "        vertical-align: top;\n",
       "    }\n",
       "\n",
       "    .dataframe thead th {\n",
       "        text-align: right;\n",
       "    }\n",
       "</style>\n",
       "<table border=\"1\" class=\"dataframe\">\n",
       "  <thead>\n",
       "    <tr style=\"text-align: right;\">\n",
       "      <th></th>\n",
       "      <th>ean</th>\n",
       "      <th>reviews.numHelpful</th>\n",
       "      <th>reviews.rating</th>\n",
       "      <th>reviews.userCity</th>\n",
       "      <th>reviews.userProvince</th>\n",
       "      <th>sizes</th>\n",
       "      <th>upc</th>\n",
       "    </tr>\n",
       "  </thead>\n",
       "  <tbody>\n",
       "    <tr>\n",
       "      <th>count</th>\n",
       "      <td>8.980000e+02</td>\n",
       "      <td>900.000000</td>\n",
       "      <td>1177.000000</td>\n",
       "      <td>0.0</td>\n",
       "      <td>0.0</td>\n",
       "      <td>0.0</td>\n",
       "      <td>8.980000e+02</td>\n",
       "    </tr>\n",
       "    <tr>\n",
       "      <th>mean</th>\n",
       "      <td>8.443135e+11</td>\n",
       "      <td>83.584444</td>\n",
       "      <td>4.359388</td>\n",
       "      <td>NaN</td>\n",
       "      <td>NaN</td>\n",
       "      <td>NaN</td>\n",
       "      <td>8.443135e+11</td>\n",
       "    </tr>\n",
       "    <tr>\n",
       "      <th>std</th>\n",
       "      <td>3.416444e+09</td>\n",
       "      <td>197.150238</td>\n",
       "      <td>1.021445</td>\n",
       "      <td>NaN</td>\n",
       "      <td>NaN</td>\n",
       "      <td>NaN</td>\n",
       "      <td>3.416444e+09</td>\n",
       "    </tr>\n",
       "    <tr>\n",
       "      <th>min</th>\n",
       "      <td>8.416670e+11</td>\n",
       "      <td>0.000000</td>\n",
       "      <td>1.000000</td>\n",
       "      <td>NaN</td>\n",
       "      <td>NaN</td>\n",
       "      <td>NaN</td>\n",
       "      <td>8.416670e+11</td>\n",
       "    </tr>\n",
       "    <tr>\n",
       "      <th>25%</th>\n",
       "      <td>8.416670e+11</td>\n",
       "      <td>0.000000</td>\n",
       "      <td>4.000000</td>\n",
       "      <td>NaN</td>\n",
       "      <td>NaN</td>\n",
       "      <td>NaN</td>\n",
       "      <td>8.416670e+11</td>\n",
       "    </tr>\n",
       "    <tr>\n",
       "      <th>50%</th>\n",
       "      <td>8.416670e+11</td>\n",
       "      <td>0.000000</td>\n",
       "      <td>5.000000</td>\n",
       "      <td>NaN</td>\n",
       "      <td>NaN</td>\n",
       "      <td>NaN</td>\n",
       "      <td>8.416670e+11</td>\n",
       "    </tr>\n",
       "    <tr>\n",
       "      <th>75%</th>\n",
       "      <td>8.487190e+11</td>\n",
       "      <td>34.000000</td>\n",
       "      <td>5.000000</td>\n",
       "      <td>NaN</td>\n",
       "      <td>NaN</td>\n",
       "      <td>NaN</td>\n",
       "      <td>8.487190e+11</td>\n",
       "    </tr>\n",
       "    <tr>\n",
       "      <th>max</th>\n",
       "      <td>8.487190e+11</td>\n",
       "      <td>997.000000</td>\n",
       "      <td>5.000000</td>\n",
       "      <td>NaN</td>\n",
       "      <td>NaN</td>\n",
       "      <td>NaN</td>\n",
       "      <td>8.487190e+11</td>\n",
       "    </tr>\n",
       "  </tbody>\n",
       "</table>\n",
       "</div>"
      ],
      "text/plain": [
       "                ean  reviews.numHelpful  reviews.rating  reviews.userCity  \\\n",
       "count  8.980000e+02          900.000000     1177.000000               0.0   \n",
       "mean   8.443135e+11           83.584444        4.359388               NaN   \n",
       "std    3.416444e+09          197.150238        1.021445               NaN   \n",
       "min    8.416670e+11            0.000000        1.000000               NaN   \n",
       "25%    8.416670e+11            0.000000        4.000000               NaN   \n",
       "50%    8.416670e+11            0.000000        5.000000               NaN   \n",
       "75%    8.487190e+11           34.000000        5.000000               NaN   \n",
       "max    8.487190e+11          997.000000        5.000000               NaN   \n",
       "\n",
       "       reviews.userProvince  sizes           upc  \n",
       "count                   0.0    0.0  8.980000e+02  \n",
       "mean                    NaN    NaN  8.443135e+11  \n",
       "std                     NaN    NaN  3.416444e+09  \n",
       "min                     NaN    NaN  8.416670e+11  \n",
       "25%                     NaN    NaN  8.416670e+11  \n",
       "50%                     NaN    NaN  8.416670e+11  \n",
       "75%                     NaN    NaN  8.487190e+11  \n",
       "max                     NaN    NaN  8.487190e+11  "
      ]
     },
     "execution_count": 131,
     "metadata": {},
     "output_type": "execute_result"
    }
   ],
   "source": [
    "A.describe()"
   ]
  },
  {
   "cell_type": "code",
   "execution_count": 132,
   "id": "5275a34c",
   "metadata": {},
   "outputs": [
    {
     "name": "stdout",
     "output_type": "stream",
     "text": [
      "<class 'pandas.core.frame.DataFrame'>\n",
      "RangeIndex: 1597 entries, 0 to 1596\n",
      "Data columns (total 27 columns):\n",
      " #   Column                Non-Null Count  Dtype  \n",
      "---  ------                --------------  -----  \n",
      " 0   id                    1597 non-null   object \n",
      " 1   asins                 1597 non-null   object \n",
      " 2   brand                 1597 non-null   object \n",
      " 3   categories            1597 non-null   object \n",
      " 4   colors                774 non-null    object \n",
      " 5   dateAdded             1597 non-null   object \n",
      " 6   dateUpdated           1597 non-null   object \n",
      " 7   dimension             565 non-null    object \n",
      " 8   ean                   898 non-null    float64\n",
      " 9   keys                  1597 non-null   object \n",
      " 10  manufacturer          965 non-null    object \n",
      " 11  manufacturerNumber    902 non-null    object \n",
      " 12  name                  1597 non-null   object \n",
      " 13  prices                1597 non-null   object \n",
      " 14  reviews.date          1217 non-null   object \n",
      " 15  reviews.doRecommend   539 non-null    object \n",
      " 16  reviews.numHelpful    900 non-null    float64\n",
      " 17  reviews.rating        1177 non-null   float64\n",
      " 18  reviews.sourceURLs    1597 non-null   object \n",
      " 19  reviews.text          1597 non-null   object \n",
      " 20  reviews.title         1580 non-null   object \n",
      " 21  reviews.userCity      0 non-null      float64\n",
      " 22  reviews.userProvince  0 non-null      float64\n",
      " 23  reviews.username      1580 non-null   object \n",
      " 24  sizes                 0 non-null      float64\n",
      " 25  upc                   898 non-null    float64\n",
      " 26  weight                686 non-null    object \n",
      "dtypes: float64(7), object(20)\n",
      "memory usage: 337.0+ KB\n"
     ]
    }
   ],
   "source": [
    "A.info()"
   ]
  },
  {
   "cell_type": "code",
   "execution_count": 133,
   "id": "9f55306c",
   "metadata": {},
   "outputs": [
    {
     "data": {
      "text/plain": [
       "id                         0\n",
       "asins                      0\n",
       "brand                      0\n",
       "categories                 0\n",
       "colors                   823\n",
       "dateAdded                  0\n",
       "dateUpdated                0\n",
       "dimension               1032\n",
       "ean                      699\n",
       "keys                       0\n",
       "manufacturer             632\n",
       "manufacturerNumber       695\n",
       "name                       0\n",
       "prices                     0\n",
       "reviews.date             380\n",
       "reviews.doRecommend     1058\n",
       "reviews.numHelpful       697\n",
       "reviews.rating           420\n",
       "reviews.sourceURLs         0\n",
       "reviews.text               0\n",
       "reviews.title             17\n",
       "reviews.userCity        1597\n",
       "reviews.userProvince    1597\n",
       "reviews.username          17\n",
       "sizes                   1597\n",
       "upc                      699\n",
       "weight                   911\n",
       "dtype: int64"
      ]
     },
     "execution_count": 133,
     "metadata": {},
     "output_type": "execute_result"
    }
   ],
   "source": [
    "A.isnull().sum()"
   ]
  },
  {
   "cell_type": "code",
   "execution_count": 134,
   "id": "4246f4fa",
   "metadata": {},
   "outputs": [
    {
     "data": {
      "text/plain": [
       "np.int64(0)"
      ]
     },
     "execution_count": 134,
     "metadata": {},
     "output_type": "execute_result"
    }
   ],
   "source": [
    "A.duplicated().sum()"
   ]
  },
  {
   "cell_type": "code",
   "execution_count": 135,
   "id": "7a10853e",
   "metadata": {},
   "outputs": [
    {
     "data": {
      "text/plain": [
       "id                        66\n",
       "asins                     54\n",
       "brand                      2\n",
       "categories                19\n",
       "colors                     3\n",
       "dateAdded                 50\n",
       "dateUpdated               42\n",
       "dimension                  2\n",
       "ean                        2\n",
       "keys                      66\n",
       "manufacturer               2\n",
       "manufacturerNumber         6\n",
       "name                      62\n",
       "prices                    66\n",
       "reviews.date             382\n",
       "reviews.doRecommend        2\n",
       "reviews.numHelpful       182\n",
       "reviews.rating             5\n",
       "reviews.sourceURLs       499\n",
       "reviews.text            1048\n",
       "reviews.title           1270\n",
       "reviews.userCity           0\n",
       "reviews.userProvince       0\n",
       "reviews.username         949\n",
       "sizes                      0\n",
       "upc                        2\n",
       "weight                     9\n",
       "dtype: int64"
      ]
     },
     "execution_count": 135,
     "metadata": {},
     "output_type": "execute_result"
    }
   ],
   "source": [
    "A.nunique()"
   ]
  },
  {
   "cell_type": "code",
   "execution_count": 136,
   "id": "a12cf742",
   "metadata": {},
   "outputs": [
    {
     "data": {
      "text/plain": [
       "upc\n",
       "8.416670e+11    561\n",
       "8.487190e+11    337\n",
       "Name: count, dtype: int64"
      ]
     },
     "execution_count": 136,
     "metadata": {},
     "output_type": "execute_result"
    }
   ],
   "source": [
    "A[\"upc\"].value_counts()"
   ]
  },
  {
   "cell_type": "code",
   "execution_count": 137,
   "id": "1f0355eb",
   "metadata": {},
   "outputs": [
    {
     "data": {
      "text/plain": [
       "array([        nan, 8.48719e+11, 8.41667e+11])"
      ]
     },
     "execution_count": 137,
     "metadata": {},
     "output_type": "execute_result"
    }
   ],
   "source": [
    "A[\"upc\"].unique()"
   ]
  },
  {
   "cell_type": "code",
   "execution_count": 138,
   "id": "266e2052",
   "metadata": {},
   "outputs": [
    {
     "data": {
      "text/plain": [
       "asins\n",
       "B01BH83OOM                                                           542\n",
       "B00CX5P8FC                                                           166\n",
       "B00HX0SRXW                                                           133\n",
       "B00LWHU9D8                                                            87\n",
       "B00DOPNO4M,B00BWYQ9YE,B00CYQPMJC,B00CUU1CGY,B00BWYRF7E,B00CYQP3AK     70\n",
       "B01LW1MS9C                                                            56\n",
       "B00DOPNLJ0                                                            43\n",
       "B008GGCAVM,B00DOPNMVM                                                 41\n",
       "B00DU15MU4                                                            38\n",
       "B002Y27P3M                                                            32\n",
       "B07194GPJV                                                            27\n",
       "B00QJDU3KY                                                            23\n",
       "B01HC1S9HU                                                            22\n",
       "B01J2G4VBG                                                            22\n",
       "B008GG93YE,B00LWHUBPO,B0051QYGXA                                      20\n",
       "B00NO8LX7E                                                            18\n",
       "B071NMTDHR                                                            18\n",
       "B00LORGAG6                                                            17\n",
       "B01FWSVGQQ                                                            15\n",
       "B01K8B8YA8                                                            13\n",
       "B0711C7WL2                                                            13\n",
       "B00KSR13CE                                                            12\n",
       "B00K5W9WZW                                                            12\n",
       "B00NO8JJZW                                                            12\n",
       "B0716JZKLT                                                            12\n",
       "B01KIOU214                                                             9\n",
       "B0117U8JSG                                                             8\n",
       "B01KIOU4EO                                                             7\n",
       "B01E9AHU8Q                                                             7\n",
       "B01A08ECQY                                                             7\n",
       "B01KVZDFD2                                                             6\n",
       "B01A08E70K                                                             6\n",
       "B00KDRQEYQ                                                             6\n",
       "B06XDD27LJ                                                             6\n",
       "B01M4NU4OM                                                             5\n",
       "B01M3ULMWP                                                             5\n",
       "B00VKLBU3Y                                                             4\n",
       "B00LWHUAF0                                                             4\n",
       "B00ZS0G0PG                                                             4\n",
       "B01M71HRMY                                                             4\n",
       "B00DOPNK14                                                             4\n",
       "B01M4NRFXX                                                             4\n",
       "B00VKM5NFY                                                             4\n",
       "B00QJDVBFU                                                             3\n",
       "B010BWYP20                                                             3\n",
       "B00OQVZDJM                                                             3\n",
       "B00LWHUB9A                                                             3\n",
       "B010EK1GOE                                                             3\n",
       "B00U879XZ8                                                             3\n",
       "B00QJDS7I4                                                             3\n",
       "B01BRWH8G8                                                             3\n",
       "B0117U82EM                                                             3\n",
       "B00PD81ETU                                                             3\n",
       "B010BWYDYA                                                             3\n",
       "Name: count, dtype: int64"
      ]
     },
     "execution_count": 138,
     "metadata": {},
     "output_type": "execute_result"
    }
   ],
   "source": [
    "A[\"asins\"].value_counts()"
   ]
  },
  {
   "cell_type": "code",
   "execution_count": 139,
   "id": "bf63bbcb",
   "metadata": {},
   "outputs": [
    {
     "data": {
      "text/plain": [
       "array(['B00QJDU3KY', 'B002Y27P3M', 'B00DU15MU4', 'B01LW1MS9C',\n",
       "       'B01FWSVGQQ', 'B00DOPNLJ0', 'B00NO8LX7E', 'B00LWHUAF0',\n",
       "       'B00KDRQEYQ', 'B00OQVZDJM', 'B00QJDVBFU', 'B00VKLBU3Y',\n",
       "       'B010BWYP20', 'B00VKM5NFY', 'B01KIOU4EO', 'B0117U8JSG',\n",
       "       'B01A08ECQY', 'B01J2G4VBG', 'B00QJDS7I4', 'B00U879XZ8',\n",
       "       'B010EK1GOE', 'B00LWHUB9A', 'B00ZS0G0PG', 'B01A08E70K',\n",
       "       'B00PD81ETU', 'B06XDD27LJ', 'B00CX5P8FC', 'B07194GPJV',\n",
       "       'B008GG93YE,B00LWHUBPO,B0051QYGXA', 'B071NMTDHR', 'B0117U82EM',\n",
       "       'B0711C7WL2', 'B01M3ULMWP', 'B00LWHU9D8', 'B0716JZKLT',\n",
       "       'B01BRWH8G8', 'B01M4NRFXX', 'B01KVZDFD2', 'B01M4NU4OM',\n",
       "       'B008GGCAVM,B00DOPNMVM', 'B00KSR13CE', 'B01M71HRMY', 'B01K8B8YA8',\n",
       "       'B010BWYDYA', 'B01KIOU214', 'B00DOPNK14',\n",
       "       'B00DOPNO4M,B00BWYQ9YE,B00CYQPMJC,B00CUU1CGY,B00BWYRF7E,B00CYQP3AK',\n",
       "       'B01BH83OOM', 'B00K5W9WZW', 'B01E9AHU8Q', 'B01HC1S9HU',\n",
       "       'B00HX0SRXW', 'B00LORGAG6', 'B00NO8JJZW'], dtype=object)"
      ]
     },
     "execution_count": 139,
     "metadata": {},
     "output_type": "execute_result"
    }
   ],
   "source": [
    "A[\"asins\"].unique()"
   ]
  },
  {
   "cell_type": "code",
   "execution_count": 140,
   "id": "7e70202d",
   "metadata": {},
   "outputs": [
    {
     "data": {
      "text/plain": [
       "array([        nan, 8.48719e+11, 8.41667e+11])"
      ]
     },
     "execution_count": 140,
     "metadata": {},
     "output_type": "execute_result"
    }
   ],
   "source": [
    "A[\"ean\"].unique()"
   ]
  },
  {
   "cell_type": "code",
   "execution_count": 141,
   "id": "4ba4c060",
   "metadata": {},
   "outputs": [
    {
     "data": {
      "text/plain": [
       "ean\n",
       "8.416670e+11    561\n",
       "8.487190e+11    337\n",
       "Name: count, dtype: int64"
      ]
     },
     "execution_count": 141,
     "metadata": {},
     "output_type": "execute_result"
    }
   ],
   "source": [
    "A[\"ean\"].value_counts()"
   ]
  },
  {
   "cell_type": "code",
   "execution_count": 142,
   "id": "0054046c",
   "metadata": {},
   "outputs": [
    {
     "data": {
      "text/plain": [
       "array([nan])"
      ]
     },
     "execution_count": 142,
     "metadata": {},
     "output_type": "execute_result"
    }
   ],
   "source": [
    "A[\"sizes\"].unique()"
   ]
  },
  {
   "cell_type": "code",
   "execution_count": 143,
   "id": "0a29db03",
   "metadata": {},
   "outputs": [
    {
     "data": {
      "text/plain": [
       "array([False, False, False, False, False, False, False, False, False,\n",
       "       False, False, False, False, False, False, False, False, False,\n",
       "       False, False, False, False, False, False, False, False, False])"
      ]
     },
     "execution_count": 143,
     "metadata": {},
     "output_type": "execute_result"
    }
   ],
   "source": [
    "A.columns.duplicated()"
   ]
  },
  {
   "cell_type": "code",
   "execution_count": 144,
   "id": "79d8cdab",
   "metadata": {},
   "outputs": [
    {
     "data": {
      "text/plain": [
       "Index(['id', 'asins', 'brand', 'categories', 'colors', 'dateAdded',\n",
       "       'dateUpdated', 'dimension', 'ean', 'keys', 'manufacturer',\n",
       "       'manufacturerNumber', 'name', 'prices', 'reviews.date',\n",
       "       'reviews.doRecommend', 'reviews.numHelpful', 'reviews.rating',\n",
       "       'reviews.sourceURLs', 'reviews.text', 'reviews.title',\n",
       "       'reviews.userCity', 'reviews.userProvince', 'reviews.username', 'sizes',\n",
       "       'upc', 'weight'],\n",
       "      dtype='object')"
      ]
     },
     "execution_count": 144,
     "metadata": {},
     "output_type": "execute_result"
    }
   ],
   "source": [
    "A.columns"
   ]
  },
  {
   "cell_type": "code",
   "execution_count": 145,
   "id": "1b279794",
   "metadata": {},
   "outputs": [
    {
     "data": {
      "text/html": [
       "<div>\n",
       "<style scoped>\n",
       "    .dataframe tbody tr th:only-of-type {\n",
       "        vertical-align: middle;\n",
       "    }\n",
       "\n",
       "    .dataframe tbody tr th {\n",
       "        vertical-align: top;\n",
       "    }\n",
       "\n",
       "    .dataframe thead th {\n",
       "        text-align: right;\n",
       "    }\n",
       "</style>\n",
       "<table border=\"1\" class=\"dataframe\">\n",
       "  <thead>\n",
       "    <tr style=\"text-align: right;\">\n",
       "      <th></th>\n",
       "      <th>id</th>\n",
       "      <th>asins</th>\n",
       "      <th>brand</th>\n",
       "      <th>categories</th>\n",
       "      <th>colors</th>\n",
       "      <th>dateAdded</th>\n",
       "      <th>dateUpdated</th>\n",
       "      <th>dimension</th>\n",
       "      <th>ean</th>\n",
       "      <th>keys</th>\n",
       "      <th>...</th>\n",
       "      <th>reviews.rating</th>\n",
       "      <th>reviews.sourceURLs</th>\n",
       "      <th>reviews.text</th>\n",
       "      <th>reviews.title</th>\n",
       "      <th>reviews.userCity</th>\n",
       "      <th>reviews.userProvince</th>\n",
       "      <th>reviews.username</th>\n",
       "      <th>sizes</th>\n",
       "      <th>upc</th>\n",
       "      <th>weight</th>\n",
       "    </tr>\n",
       "  </thead>\n",
       "  <tbody>\n",
       "  </tbody>\n",
       "</table>\n",
       "<p>0 rows × 27 columns</p>\n",
       "</div>"
      ],
      "text/plain": [
       "Empty DataFrame\n",
       "Columns: [id, asins, brand, categories, colors, dateAdded, dateUpdated, dimension, ean, keys, manufacturer, manufacturerNumber, name, prices, reviews.date, reviews.doRecommend, reviews.numHelpful, reviews.rating, reviews.sourceURLs, reviews.text, reviews.title, reviews.userCity, reviews.userProvince, reviews.username, sizes, upc, weight]\n",
       "Index: []\n",
       "\n",
       "[0 rows x 27 columns]"
      ]
     },
     "execution_count": 145,
     "metadata": {},
     "output_type": "execute_result"
    }
   ],
   "source": [
    "A[A.iloc[:, 21] == A.iloc[:, 22]]"
   ]
  },
  {
   "cell_type": "markdown",
   "id": "b5548b41",
   "metadata": {},
   "source": [
    "## **Data cleaning**"
   ]
  },
  {
   "cell_type": "code",
   "execution_count": 146,
   "id": "1020de45",
   "metadata": {},
   "outputs": [],
   "source": [
    "A.drop(['asins','brand','colors','ean','reviews.sourceURLs','reviews.text','keys','manufacturerNumber','reviews.title','sizes','upc','reviews.userCity', 'reviews.userProvince'], axis=1  , inplace= True)"
   ]
  },
  {
   "cell_type": "code",
   "execution_count": 147,
   "id": "916e0248",
   "metadata": {},
   "outputs": [
    {
     "data": {
      "text/plain": [
       "Index(['id', 'categories', 'dateAdded', 'dateUpdated', 'dimension',\n",
       "       'manufacturer', 'name', 'prices', 'reviews.date', 'reviews.doRecommend',\n",
       "       'reviews.numHelpful', 'reviews.rating', 'reviews.username', 'weight'],\n",
       "      dtype='object')"
      ]
     },
     "execution_count": 147,
     "metadata": {},
     "output_type": "execute_result"
    }
   ],
   "source": [
    "A.columns"
   ]
  },
  {
   "cell_type": "code",
   "execution_count": 148,
   "id": "51c1cb0c",
   "metadata": {},
   "outputs": [
    {
     "data": {
      "text/plain": [
       "id                        0\n",
       "categories                0\n",
       "dateAdded                 0\n",
       "dateUpdated               0\n",
       "dimension              1032\n",
       "manufacturer            632\n",
       "name                      0\n",
       "prices                    0\n",
       "reviews.date            380\n",
       "reviews.doRecommend    1058\n",
       "reviews.numHelpful      697\n",
       "reviews.rating          420\n",
       "reviews.username         17\n",
       "weight                  911\n",
       "dtype: int64"
      ]
     },
     "execution_count": 148,
     "metadata": {},
     "output_type": "execute_result"
    }
   ],
   "source": [
    "A.isnull().sum()"
   ]
  },
  {
   "cell_type": "code",
   "execution_count": 149,
   "id": "872705d1",
   "metadata": {},
   "outputs": [
    {
     "data": {
      "text/plain": [
       "id                      object\n",
       "categories              object\n",
       "dateAdded               object\n",
       "dateUpdated             object\n",
       "dimension               object\n",
       "manufacturer            object\n",
       "name                    object\n",
       "prices                  object\n",
       "reviews.date            object\n",
       "reviews.doRecommend     object\n",
       "reviews.numHelpful     float64\n",
       "reviews.rating         float64\n",
       "reviews.username        object\n",
       "weight                  object\n",
       "dtype: object"
      ]
     },
     "execution_count": 149,
     "metadata": {},
     "output_type": "execute_result"
    }
   ],
   "source": [
    "A.dtypes"
   ]
  },
  {
   "cell_type": "code",
   "execution_count": 150,
   "id": "34627a4b",
   "metadata": {},
   "outputs": [
    {
     "data": {
      "text/plain": [
       "array(['169 mm x 117 mm x 9.1 mm', nan, '4.8 in x 6.6 in x 3.2 in'],\n",
       "      dtype=object)"
      ]
     },
     "execution_count": 150,
     "metadata": {},
     "output_type": "execute_result"
    }
   ],
   "source": [
    "A['dimension'].unique()"
   ]
  },
  {
   "cell_type": "code",
   "execution_count": 151,
   "id": "b23f5612",
   "metadata": {},
   "outputs": [
    {
     "data": {
      "text/plain": [
       "dimension\n",
       "4.8 in x 6.6 in x 3.2 in    542\n",
       "169 mm x 117 mm x 9.1 mm     23\n",
       "Name: count, dtype: int64"
      ]
     },
     "execution_count": 151,
     "metadata": {},
     "output_type": "execute_result"
    }
   ],
   "source": [
    "A['dimension'].value_counts()"
   ]
  },
  {
   "cell_type": "code",
   "execution_count": 152,
   "id": "c03f4ecf",
   "metadata": {},
   "outputs": [],
   "source": [
    "A['dimension'] = A['dimension'].fillna(A['dimension'].mode()[0])\n",
    "A['dimension'] = A['dimension'].astype('category')"
   ]
  },
  {
   "cell_type": "code",
   "execution_count": 153,
   "id": "85fec80c",
   "metadata": {},
   "outputs": [
    {
     "data": {
      "text/plain": [
       "['169 mm x 117 mm x 9.1 mm', '4.8 in x 6.6 in x 3.2 in']\n",
       "Categories (2, object): ['169 mm x 117 mm x 9.1 mm', '4.8 in x 6.6 in x 3.2 in']"
      ]
     },
     "execution_count": 153,
     "metadata": {},
     "output_type": "execute_result"
    }
   ],
   "source": [
    "A['dimension'].unique()"
   ]
  },
  {
   "cell_type": "code",
   "execution_count": 154,
   "id": "1e1a6576",
   "metadata": {},
   "outputs": [
    {
     "data": {
      "text/plain": [
       "dimension\n",
       "4.8 in x 6.6 in x 3.2 in    1574\n",
       "169 mm x 117 mm x 9.1 mm      23\n",
       "Name: count, dtype: int64"
      ]
     },
     "execution_count": 154,
     "metadata": {},
     "output_type": "execute_result"
    }
   ],
   "source": [
    "A['dimension'].value_counts()"
   ]
  },
  {
   "cell_type": "code",
   "execution_count": 155,
   "id": "d8a4042e",
   "metadata": {},
   "outputs": [
    {
     "data": {
      "text/plain": [
       "id                        0\n",
       "categories                0\n",
       "dateAdded                 0\n",
       "dateUpdated               0\n",
       "dimension                 0\n",
       "manufacturer            632\n",
       "name                      0\n",
       "prices                    0\n",
       "reviews.date            380\n",
       "reviews.doRecommend    1058\n",
       "reviews.numHelpful      697\n",
       "reviews.rating          420\n",
       "reviews.username         17\n",
       "weight                  911\n",
       "dtype: int64"
      ]
     },
     "execution_count": 155,
     "metadata": {},
     "output_type": "execute_result"
    }
   ],
   "source": [
    "A.isnull().sum()"
   ]
  },
  {
   "cell_type": "code",
   "execution_count": 156,
   "id": "69dae1a5",
   "metadata": {},
   "outputs": [
    {
     "data": {
      "text/plain": [
       "0       Amazon\n",
       "1       Amazon\n",
       "2       Amazon\n",
       "3       Amazon\n",
       "4       Amazon\n",
       "         ...  \n",
       "1592       NaN\n",
       "1593       NaN\n",
       "1594       NaN\n",
       "1595       NaN\n",
       "1596       NaN\n",
       "Name: manufacturer, Length: 1597, dtype: object"
      ]
     },
     "execution_count": 156,
     "metadata": {},
     "output_type": "execute_result"
    }
   ],
   "source": [
    "A['manufacturer']"
   ]
  },
  {
   "cell_type": "code",
   "execution_count": 157,
   "id": "e4d74bef",
   "metadata": {},
   "outputs": [],
   "source": [
    "A['manufacturer'] = A['manufacturer'].fillna('others')\n",
    "A['manufacturer'] = A['manufacturer'].astype('category')"
   ]
  },
  {
   "cell_type": "code",
   "execution_count": 158,
   "id": "fa0bd9ca",
   "metadata": {},
   "outputs": [
    {
     "data": {
      "text/plain": [
       "0       Amazon\n",
       "1       Amazon\n",
       "2       Amazon\n",
       "3       Amazon\n",
       "4       Amazon\n",
       "         ...  \n",
       "1592    others\n",
       "1593    others\n",
       "1594    others\n",
       "1595    others\n",
       "1596    others\n",
       "Name: manufacturer, Length: 1597, dtype: category\n",
       "Categories (3, object): ['AMDSI', 'Amazon', 'others']"
      ]
     },
     "execution_count": 158,
     "metadata": {},
     "output_type": "execute_result"
    }
   ],
   "source": [
    "A['manufacturer']"
   ]
  },
  {
   "cell_type": "code",
   "execution_count": 159,
   "id": "0b094a19",
   "metadata": {},
   "outputs": [
    {
     "data": {
      "text/plain": [
       "['Amazon', 'others', 'AMDSI']\n",
       "Categories (3, object): ['AMDSI', 'Amazon', 'others']"
      ]
     },
     "execution_count": 159,
     "metadata": {},
     "output_type": "execute_result"
    }
   ],
   "source": [
    "A['manufacturer'].unique()"
   ]
  },
  {
   "cell_type": "code",
   "execution_count": 160,
   "id": "796dd759",
   "metadata": {},
   "outputs": [
    {
     "data": {
      "text/plain": [
       "manufacturer\n",
       "Amazon    832\n",
       "others    632\n",
       "AMDSI     133\n",
       "Name: count, dtype: int64"
      ]
     },
     "execution_count": 160,
     "metadata": {},
     "output_type": "execute_result"
    }
   ],
   "source": [
    "A['manufacturer'].value_counts()"
   ]
  },
  {
   "cell_type": "code",
   "execution_count": 161,
   "id": "32e84079",
   "metadata": {},
   "outputs": [
    {
     "data": {
      "text/plain": [
       "id                       object\n",
       "categories               object\n",
       "dateAdded                object\n",
       "dateUpdated              object\n",
       "dimension              category\n",
       "manufacturer           category\n",
       "name                     object\n",
       "prices                   object\n",
       "reviews.date             object\n",
       "reviews.doRecommend      object\n",
       "reviews.numHelpful      float64\n",
       "reviews.rating          float64\n",
       "reviews.username         object\n",
       "weight                   object\n",
       "dtype: object"
      ]
     },
     "execution_count": 161,
     "metadata": {},
     "output_type": "execute_result"
    }
   ],
   "source": [
    "A.dtypes"
   ]
  },
  {
   "cell_type": "code",
   "execution_count": 162,
   "id": "2936a739",
   "metadata": {},
   "outputs": [
    {
     "data": {
      "text/plain": [
       "id                        0\n",
       "categories                0\n",
       "dateAdded                 0\n",
       "dateUpdated               0\n",
       "dimension                 0\n",
       "manufacturer              0\n",
       "name                      0\n",
       "prices                    0\n",
       "reviews.date            380\n",
       "reviews.doRecommend    1058\n",
       "reviews.numHelpful      697\n",
       "reviews.rating          420\n",
       "reviews.username         17\n",
       "weight                  911\n",
       "dtype: int64"
      ]
     },
     "execution_count": 162,
     "metadata": {},
     "output_type": "execute_result"
    }
   ],
   "source": [
    "A.isnull().sum()"
   ]
  },
  {
   "cell_type": "code",
   "execution_count": 163,
   "id": "a772468c",
   "metadata": {},
   "outputs": [
    {
     "data": {
      "text/plain": [
       "id                       object\n",
       "categories               object\n",
       "dateAdded                object\n",
       "dateUpdated              object\n",
       "dimension              category\n",
       "manufacturer           category\n",
       "name                     object\n",
       "prices                   object\n",
       "reviews.date             object\n",
       "reviews.doRecommend      object\n",
       "reviews.numHelpful      float64\n",
       "reviews.rating          float64\n",
       "reviews.username         object\n",
       "weight                   object\n",
       "dtype: object"
      ]
     },
     "execution_count": 163,
     "metadata": {},
     "output_type": "execute_result"
    }
   ],
   "source": [
    "A.dtypes"
   ]
  },
  {
   "cell_type": "code",
   "execution_count": 164,
   "id": "f1dedce8",
   "metadata": {},
   "outputs": [
    {
     "data": {
      "text/plain": [
       "array(['2015-08-08T00:00:00.000Z', '2015-09-01T00:00:00.000Z',\n",
       "       '2015-07-20T00:00:00.000Z', '2017-06-16T00:00:00.000Z',\n",
       "       '2016-08-11T00:00:00.000Z', '2015-07-08T00:00:00Z',\n",
       "       '2015-09-01T00:00:00Z', '2015-07-03T00:00:00Z',\n",
       "       '2015-08-08T00:00:00Z', '2015-07-20T00:00:00Z',\n",
       "       '2015-07-01T00:00:00Z', '2015-08-05T00:00:00Z', nan,\n",
       "       '2014-05-05T05:00:00Z', '2014-05-03T05:00:00Z',\n",
       "       '2014-05-04T05:00:00Z', '2010-09-02T05:00:00Z',\n",
       "       '2014-05-02T05:00:00Z', '2014-05-06T05:00:00Z',\n",
       "       '2014-05-07T05:00:00Z', '2014-04-03T00:00:00Z',\n",
       "       '2014-04-07T00:00:00Z', '2014-04-06T00:00:00Z',\n",
       "       '2017-01-30T00:00:00.000Z', '2016-11-06T00:00:00.000Z',\n",
       "       '2016-11-11T00:00:00.000Z', '2016-11-28T00:00:00.000Z',\n",
       "       '2016-11-17T00:00:00.000Z', '2017-04-20T00:00:00.000Z',\n",
       "       '2017-01-12T00:00:00.000Z', '2017-01-11T00:00:00.000Z',\n",
       "       '2016-04-01T00:00:00.000Z', '2016-12-15T00:00:00.000Z',\n",
       "       '2013-11-07T00:00:00.000Z', '2015-03-15T00:00:00.000Z',\n",
       "       '2014-10-30T00:00:00.000Z', '2013-11-07T00:00:00Z',\n",
       "       '2016-03-17T00:00:00.000Z', '2017-02-03T00:00:00.000Z',\n",
       "       '2016-07-27T00:00:00.000Z', '2016-09-07T00:00:00.000Z',\n",
       "       '2017-04-22T00:00:00.000Z', '2017-06-11T00:00:00.000Z',\n",
       "       '2016-09-12T00:00:00.000Z', '2015-04-22T00:00:00.000Z',\n",
       "       '2017-01-24T00:00:00.000Z', '2016-09-09T00:00:00.000Z',\n",
       "       '2017-04-23T00:00:00.000Z', '2017-01-13T00:00:00.000Z',\n",
       "       '2017-07-11T00:00:00.000Z', '2014-11-07T00:00:00.000Z',\n",
       "       '2014-11-07T00:00:00Z', '2017-05-29T00:00:00.000Z',\n",
       "       '2015-07-01T00:00:00.000Z', '2016-07-13T00:00:00.000Z',\n",
       "       '2016-02-04T00:00:00.000Z', '2015-10-13T00:00:00.000Z',\n",
       "       '2017-07-01T00:00:00.000Z', '2017-06-29T00:00:00.000Z',\n",
       "       '2017-06-30T00:00:00.000Z', '2016-12-02T00:00:00.000Z',\n",
       "       '2017-01-10T00:00:00.000Z', '2016-11-19T00:00:00.000Z',\n",
       "       '2017-03-17T00:00:00.000Z', '2017-02-07T00:00:00.000Z',\n",
       "       '2016-11-21T00:00:00.000Z', '2017-05-21T00:00:00.000Z',\n",
       "       '2016-12-23T00:00:00.000Z', '2017-06-21T00:00:00.000Z',\n",
       "       '2017-06-25T00:00:00.000Z', '2017-07-05T00:00:00.000Z',\n",
       "       '2017-07-14T00:00:00.000Z', '2017-07-13T00:00:00.000Z',\n",
       "       '2017-05-12T00:00:00.000Z', '2014-10-23T00:00:00.000Z',\n",
       "       '2014-10-22T00:00:00.000Z', '2016-05-03T00:00:00.000Z',\n",
       "       '2014-10-29T00:00:00.000Z', '2016-04-29T00:00:00.000Z',\n",
       "       '2016-05-09T00:00:00.000Z', '2016-08-08T00:00:00.000Z',\n",
       "       '2016-07-12T00:00:00.000Z', '2016-08-28T00:00:00.000Z',\n",
       "       '2017-05-06T00:00:00.000Z', '2017-03-25T00:00:00.000Z',\n",
       "       '2017-04-18T00:00:00.000Z', '2017-06-04T00:00:00.000Z',\n",
       "       '2014-04-08T05:00:00Z', '2014-09-02T05:00:00Z',\n",
       "       '2014-05-01T05:00:00Z', '2014-04-07T05:00:00Z',\n",
       "       '2014-04-03T05:00:00Z', '2014-04-04T05:00:00Z',\n",
       "       '2014-09-03T05:00:00Z', '2014-06-24T05:00:00Z',\n",
       "       '2014-04-29T05:00:00Z', '2014-04-30T05:00:00Z',\n",
       "       '2014-04-10T05:00:00Z', '2014-04-05T05:00:00Z',\n",
       "       '2014-04-06T05:00:00Z', '2014-05-15T05:00:00Z',\n",
       "       '2017-06-22T00:00:00.000Z', '2017-06-27T00:00:00.000Z',\n",
       "       '2017-03-16T00:00:00.000Z', '2017-07-02T00:00:00.000Z',\n",
       "       '2017-03-23T00:00:00.000Z', '2017-06-08T00:00:00.000Z',\n",
       "       '2017-04-03T00:00:00.000Z', '2017-05-16T00:00:00.000Z',\n",
       "       '2017-04-09T00:00:00.000Z', '2017-05-15T00:00:00.000Z',\n",
       "       '2017-06-09T00:00:00.000Z', '2017-05-23T00:00:00.000Z',\n",
       "       '2017-07-20T00:00:00.000Z', '2017-07-10T00:00:00.000Z',\n",
       "       '2017-07-22T00:00:00.000Z', '2017-07-18T00:00:00.000Z',\n",
       "       '2017-07-03T00:00:00.000Z', '2017-07-12T00:00:00.000Z',\n",
       "       '2017-07-07T00:00:00.000Z', '2017-06-12T00:00:00.000Z',\n",
       "       '2017-06-18T00:00:00.000Z', '2017-06-17T00:00:00.000Z',\n",
       "       '2017-06-28T00:00:00.000Z', '2017-06-15T00:00:00.000Z',\n",
       "       '2017-06-14T00:00:00.000Z', '2012-09-12T00:00:00.000Z',\n",
       "       '2012-09-25T00:00:00.000Z', '2013-12-18T00:00:00.000Z',\n",
       "       '2013-11-04T00:00:00.000Z', '2014-11-07T06:00:00Z',\n",
       "       '2012-09-06T00:00:00Z', '2012-09-25T00:00:00Z',\n",
       "       '2012-09-12T00:00:00Z', '2011-09-29T00:00:00Z',\n",
       "       '2017-07-25T00:00:00.000Z', '2017-06-20T00:00:00.000Z',\n",
       "       '2017-07-08T00:00:00.000Z', '2017-07-06T00:00:00.000Z',\n",
       "       '2015-10-03T00:00:00.000Z', '2015-10-02T00:00:00.000Z',\n",
       "       '2017-06-13T00:00:00.000Z', '2017-07-19T00:00:00.000Z',\n",
       "       '2017-07-16T00:00:00.000Z', '2017-06-10T00:00:00.000Z',\n",
       "       '2017-06-19T00:00:00.000Z', '2014-10-03T00:00:00.000Z',\n",
       "       '2017-07-21T00:00:00.000Z', '2016-09-24T00:00:00.000Z',\n",
       "       '2017-01-17T00:00:00.000Z', '2016-11-04T00:00:00.000Z',\n",
       "       '2017-02-16T00:00:00.000Z', '2017-03-31T00:00:00.000Z',\n",
       "       '2017-04-17T00:00:00.000Z', '2016-10-13T00:00:00.000Z',\n",
       "       '2012-09-17T00:00:00.000Z', '2016-08-23T00:00:00.000Z',\n",
       "       '2012-10-07T00:00:00.000Z', '2013-10-04T00:00:00.000Z',\n",
       "       '2013-10-04T05:00:00Z', '2012-09-17T00:00:00Z',\n",
       "       '2013-10-04T00:00:00Z', '2016-12-01T00:00:00.000Z',\n",
       "       '2017-06-01T00:00:00.000Z', '2017-02-19T00:00:00.000Z',\n",
       "       '2015-06-23T00:00:00.000Z', '2013-12-30T00:00:00.000Z',\n",
       "       '2013-10-23T00:00:00.000Z', '2014-09-15T00:00:00.000Z',\n",
       "       '2013-10-18T05:00:00Z', '2014-04-23T05:00:00Z',\n",
       "       '2013-10-19T05:00:00Z', '2014-04-24T05:00:00Z',\n",
       "       '2014-03-27T05:00:00Z', '2014-04-25T05:00:00Z',\n",
       "       '2013-12-19T06:00:00Z', '2013-10-22T05:00:00Z',\n",
       "       '2013-10-18T00:00:00Z', '2014-09-15T00:00:00Z',\n",
       "       '2013-10-23T00:00:00Z', '2016-04-05T00:00:00.000Z',\n",
       "       '2016-05-31T00:00:00.000Z', '2016-05-30T00:00:00.000Z',\n",
       "       '2016-09-10T00:00:00.000Z', '2017-07-15T00:00:00.000Z',\n",
       "       '2017-07-09T00:00:00.000Z', '2017-07-31T00:00:00.000Z',\n",
       "       '2017-07-29T00:00:00.000Z', '2017-07-28T00:00:00.000Z',\n",
       "       '2017-06-26T00:00:00.000Z', '2017-06-24T00:00:00.000Z',\n",
       "       '2017-05-31T00:00:00.000Z', '2017-05-27T00:00:00.000Z',\n",
       "       '2017-05-26T00:00:00.000Z', '2017-05-22T00:00:00.000Z',\n",
       "       '2017-05-20T00:00:00.000Z', '2017-05-19T00:00:00.000Z',\n",
       "       '2017-05-07T00:00:00.000Z', '2017-05-05T00:00:00.000Z',\n",
       "       '2017-05-04T00:00:00.000Z', '2017-04-14T00:00:00.000Z',\n",
       "       '2017-04-11T00:00:00.000Z', '2017-04-10T00:00:00.000Z',\n",
       "       '2017-04-08T00:00:00.000Z', '2017-04-21T00:00:00.000Z',\n",
       "       '2017-04-15T00:00:00.000Z', '2017-04-30T00:00:00.000Z',\n",
       "       '2017-04-29T00:00:00.000Z', '2017-04-28T00:00:00.000Z',\n",
       "       '2017-04-27T00:00:00.000Z', '2017-05-03T00:00:00.000Z',\n",
       "       '2017-05-17T00:00:00.000Z', '2017-05-13T00:00:00.000Z',\n",
       "       '2017-04-07T00:00:00.000Z', '2017-04-04T00:00:00.000Z',\n",
       "       '2017-04-01T00:00:00.000Z', '2017-03-15T00:00:00.000Z',\n",
       "       '2017-03-27T00:00:00.000Z', '2017-03-26T00:00:00.000Z',\n",
       "       '2017-03-18T00:00:00.000Z', '2017-03-11T00:00:00.000Z',\n",
       "       '2017-03-10T00:00:00.000Z', '2017-03-07T00:00:00.000Z',\n",
       "       '2017-03-06T00:00:00.000Z', '2017-03-04T00:00:00.000Z',\n",
       "       '2017-02-13T00:00:00.000Z', '2017-02-11T00:00:00.000Z',\n",
       "       '2017-02-08T00:00:00.000Z', '2017-02-06T00:00:00.000Z',\n",
       "       '2017-03-01T00:00:00.000Z', '2017-02-25T00:00:00.000Z',\n",
       "       '2017-02-24T00:00:00.000Z', '2017-02-18T00:00:00.000Z',\n",
       "       '2017-02-17T00:00:00.000Z', '2017-02-14T00:00:00.000Z',\n",
       "       '2017-02-04T00:00:00.000Z', '2017-01-28T00:00:00.000Z',\n",
       "       '2017-01-27T00:00:00.000Z', '2017-01-25T00:00:00.000Z',\n",
       "       '2017-02-01T00:00:00.000Z', '2017-01-23T00:00:00.000Z',\n",
       "       '2017-01-18T00:00:00.000Z', '2017-01-16T00:00:00.000Z',\n",
       "       '2017-01-21T00:00:00.000Z', '2017-01-19T00:00:00.000Z',\n",
       "       '2017-01-14T00:00:00.000Z', '2017-01-09T00:00:00.000Z',\n",
       "       '2017-01-08T00:00:00.000Z', '2017-01-07T00:00:00.000Z',\n",
       "       '2017-01-06T00:00:00.000Z', '2017-01-05T00:00:00.000Z',\n",
       "       '2017-01-04T00:00:00.000Z', '2017-01-03T00:00:00.000Z',\n",
       "       '2017-01-02T00:00:00.000Z', '2017-01-01T00:00:00.000Z',\n",
       "       '2016-12-31T00:00:00.000Z', '2016-12-30T00:00:00.000Z',\n",
       "       '2016-12-29T00:00:00.000Z', '2016-12-25T00:00:00.000Z',\n",
       "       '2016-12-24T00:00:00.000Z', '2016-12-20T00:00:00.000Z',\n",
       "       '2016-12-19T00:00:00.000Z', '2016-12-18T00:00:00.000Z',\n",
       "       '2016-12-17T00:00:00.000Z', '2016-12-16T00:00:00.000Z',\n",
       "       '2016-12-14T00:00:00.000Z', '2016-12-11T00:00:00.000Z',\n",
       "       '2016-12-10T00:00:00.000Z', '2016-12-09T00:00:00.000Z',\n",
       "       '2016-12-08T00:00:00.000Z', '2016-12-07T00:00:00.000Z',\n",
       "       '2016-12-03T00:00:00.000Z', '2016-11-18T00:00:00.000Z',\n",
       "       '2016-11-16T00:00:00.000Z', '2016-11-30T00:00:00.000Z',\n",
       "       '2016-11-27T00:00:00.000Z', '2016-11-23T00:00:00.000Z',\n",
       "       '2016-11-22T00:00:00.000Z', '2016-11-15T00:00:00.000Z',\n",
       "       '2016-11-10T00:00:00.000Z', '2016-11-05T00:00:00.000Z',\n",
       "       '2016-11-01T00:00:00.000Z', '2016-10-30T00:00:00.000Z',\n",
       "       '2016-10-21T00:00:00.000Z', '2016-10-19T00:00:00.000Z',\n",
       "       '2016-10-15T00:00:00.000Z', '2016-10-29T00:00:00.000Z',\n",
       "       '2016-10-28T00:00:00.000Z', '2016-10-23T00:00:00.000Z',\n",
       "       '2016-10-14T00:00:00.000Z', '2016-10-09T00:00:00.000Z',\n",
       "       '2016-10-08T00:00:00.000Z', '2016-10-01T00:00:00.000Z',\n",
       "       '2016-09-28T00:00:00.000Z', '2016-09-27T00:00:00.000Z',\n",
       "       '2016-09-23T00:00:00.000Z', '2016-10-07T00:00:00.000Z',\n",
       "       '2016-10-05T00:00:00.000Z', '2016-09-21T00:00:00.000Z',\n",
       "       '2016-09-19T00:00:00.000Z', '2016-09-18T00:00:00.000Z',\n",
       "       '2016-09-17T00:00:00.000Z', '2016-09-16T00:00:00.000Z',\n",
       "       '2016-09-14T00:00:00.000Z', '2016-09-13T00:00:00.000Z',\n",
       "       '2016-09-11T00:00:00.000Z', '2016-09-06T00:00:00.000Z',\n",
       "       '2016-09-04T00:00:00.000Z', '2016-09-03T00:00:00.000Z',\n",
       "       '2016-09-02T00:00:00.000Z', '2016-08-31T00:00:00.000Z',\n",
       "       '2016-08-27T00:00:00.000Z', '2016-08-26T00:00:00.000Z',\n",
       "       '2016-08-03T00:00:00.000Z', '2016-07-30T00:00:00.000Z',\n",
       "       '2016-07-29T00:00:00.000Z', '2016-07-25T00:00:00.000Z',\n",
       "       '2016-08-14T00:00:00.000Z', '2016-08-09T00:00:00.000Z',\n",
       "       '2016-08-06T00:00:00.000Z', '2016-08-05T00:00:00.000Z',\n",
       "       '2016-08-20T00:00:00.000Z', '2016-08-19T00:00:00.000Z',\n",
       "       '2016-08-18T00:00:00.000Z', '2016-08-16T00:00:00.000Z',\n",
       "       '2016-07-22T00:00:00.000Z', '2016-07-21T00:00:00.000Z',\n",
       "       '2016-07-18T00:00:00.000Z', '2016-07-17T00:00:00.000Z',\n",
       "       '2016-07-16T00:00:00.000Z', '2016-07-09T00:00:00.000Z',\n",
       "       '2016-07-01T00:00:00.000Z', '2016-06-28T00:00:00.000Z',\n",
       "       '2016-06-27T00:00:00.000Z', '2016-06-05T00:00:00.000Z',\n",
       "       '2016-06-04T00:00:00.000Z', '2016-06-25T00:00:00.000Z',\n",
       "       '2016-06-24T00:00:00.000Z', '2016-06-22T00:00:00.000Z',\n",
       "       '2016-06-11T00:00:00.000Z', '2016-06-10T00:00:00.000Z',\n",
       "       '2016-06-08T00:00:00.000Z', '2016-06-06T00:00:00.000Z',\n",
       "       '2017-05-18T00:00:00.000Z', '2017-06-23T00:00:00.000Z',\n",
       "       '2017-06-05T00:00:00.000Z', '2017-06-03T00:00:00.000Z',\n",
       "       '2017-06-02T00:00:00.000Z', '2014-08-05T00:00:00.000Z',\n",
       "       '2015-04-29T00:00:00.000Z', '2015-08-31T00:00:00.000Z',\n",
       "       '2014-08-02T00:00:00.000Z', '2014-11-22T00:00:00.000Z',\n",
       "       '2014-07-31T00:00:00Z', '2015-06-12T00:00:00Z',\n",
       "       '2014-07-24T00:00:00Z', '2014-12-20T00:00:00Z',\n",
       "       '2016-05-24T00:00:00.000Z', '2016-12-28T00:00:00.000Z',\n",
       "       '2016-10-17T00:00:00.000Z', '2016-05-25T00:00:00.000Z',\n",
       "       '2016-11-08T00:00:00.000Z', '2016-10-04T00:00:00.000Z',\n",
       "       '2017-02-27T00:00:00.000Z', '2017-02-10T00:00:00.000Z',\n",
       "       '2016-08-05T00:00:00Z', '2016-11-14T00:00:00Z',\n",
       "       '2014-07-24T00:00:00.000Z', '2014-07-28T00:00:00.000Z',\n",
       "       '2014-07-28T00:00:00Z', '2016-02-02T00:00:00.000Z',\n",
       "       '2015-05-02T00:00:00.000Z', '2017-03-28T00:00:00.000Z',\n",
       "       '2016-03-16T00:00:00.000Z', '2017-02-22T00:00:00.000Z',\n",
       "       '2017-05-08T00:00:00.000Z', '2016-02-22T00:00:00.000Z',\n",
       "       '2016-03-11T00:00:00.000Z', '2016-03-21T00:00:00.000Z',\n",
       "       '2016-07-06T00:00:00.000Z', '2016-03-31T00:00:00.000Z',\n",
       "       '2016-04-26T00:00:00Z', '2016-07-31T00:00:00Z'], dtype=object)"
      ]
     },
     "execution_count": 164,
     "metadata": {},
     "output_type": "execute_result"
    }
   ],
   "source": [
    "A['reviews.date'].unique()"
   ]
  },
  {
   "cell_type": "code",
   "execution_count": 165,
   "id": "345c65d5",
   "metadata": {},
   "outputs": [],
   "source": [
    "A['reviews.date'] = A['reviews.date'].fillna('others')\n",
    "A['reviews.date'] = A['reviews.date'].astype('category')"
   ]
  },
  {
   "cell_type": "code",
   "execution_count": 166,
   "id": "508ffc28",
   "metadata": {},
   "outputs": [
    {
     "data": {
      "text/plain": [
       "['2015-08-08T00:00:00.000Z', '2015-09-01T00:00:00.000Z', '2015-07-20T00:00:00.000Z', '2017-06-16T00:00:00.000Z', '2016-08-11T00:00:00.000Z', ..., '2016-03-21T00:00:00.000Z', '2016-07-06T00:00:00.000Z', '2016-03-31T00:00:00.000Z', '2016-04-26T00:00:00Z', '2016-07-31T00:00:00Z']\n",
       "Length: 383\n",
       "Categories (383, object): ['2010-09-02T05:00:00Z', '2011-09-29T00:00:00Z', '2012-09-06T00:00:00Z', '2012-09-12T00:00:00.000Z', ..., '2017-07-28T00:00:00.000Z', '2017-07-29T00:00:00.000Z', '2017-07-31T00:00:00.000Z', 'others']"
      ]
     },
     "execution_count": 166,
     "metadata": {},
     "output_type": "execute_result"
    }
   ],
   "source": [
    "A['reviews.date'].unique()"
   ]
  },
  {
   "cell_type": "code",
   "execution_count": 167,
   "id": "8123dfb6",
   "metadata": {},
   "outputs": [
    {
     "data": {
      "text/plain": [
       "np.int64(0)"
      ]
     },
     "execution_count": 167,
     "metadata": {},
     "output_type": "execute_result"
    }
   ],
   "source": [
    "A['reviews.date'].isnull().sum()"
   ]
  },
  {
   "cell_type": "code",
   "execution_count": 168,
   "id": "d5a221ea",
   "metadata": {},
   "outputs": [
    {
     "data": {
      "text/plain": [
       "reviews.date\n",
       "others                      380\n",
       "2014-07-28T00:00:00Z         42\n",
       "2014-07-24T00:00:00Z         31\n",
       "2014-05-02T05:00:00Z         24\n",
       "2014-04-07T00:00:00Z         23\n",
       "                           ... \n",
       "2012-09-12T00:00:00.000Z      1\n",
       "2011-09-29T00:00:00Z          1\n",
       "2017-07-29T00:00:00.000Z      1\n",
       "2017-07-31T00:00:00.000Z      1\n",
       "2010-09-02T05:00:00Z          1\n",
       "Name: count, Length: 383, dtype: int64"
      ]
     },
     "execution_count": 168,
     "metadata": {},
     "output_type": "execute_result"
    }
   ],
   "source": [
    "A['reviews.date'].value_counts()"
   ]
  },
  {
   "cell_type": "code",
   "execution_count": 169,
   "id": "20451766",
   "metadata": {},
   "outputs": [
    {
     "data": {
      "text/plain": [
       "id                       object\n",
       "categories               object\n",
       "dateAdded                object\n",
       "dateUpdated              object\n",
       "dimension              category\n",
       "manufacturer           category\n",
       "name                     object\n",
       "prices                   object\n",
       "reviews.date           category\n",
       "reviews.doRecommend      object\n",
       "reviews.numHelpful      float64\n",
       "reviews.rating          float64\n",
       "reviews.username         object\n",
       "weight                   object\n",
       "dtype: object"
      ]
     },
     "execution_count": 169,
     "metadata": {},
     "output_type": "execute_result"
    }
   ],
   "source": [
    "A.dtypes"
   ]
  },
  {
   "cell_type": "code",
   "execution_count": 170,
   "id": "5503e26f",
   "metadata": {},
   "outputs": [
    {
     "data": {
      "text/plain": [
       "array([nan, True, False], dtype=object)"
      ]
     },
     "execution_count": 170,
     "metadata": {},
     "output_type": "execute_result"
    }
   ],
   "source": [
    "A['reviews.doRecommend'].unique()"
   ]
  },
  {
   "cell_type": "code",
   "execution_count": 171,
   "id": "3c18d2e7",
   "metadata": {},
   "outputs": [
    {
     "name": "stderr",
     "output_type": "stream",
     "text": [
      "C:\\Users\\satya\\AppData\\Local\\Temp\\ipykernel_17972\\865176072.py:1: FutureWarning: Downcasting object dtype arrays on .fillna, .ffill, .bfill is deprecated and will change in a future version. Call result.infer_objects(copy=False) instead. To opt-in to the future behavior, set `pd.set_option('future.no_silent_downcasting', True)`\n",
      "  A['reviews.doRecommend'] = A['reviews.doRecommend'].fillna(A['reviews.doRecommend'].mode()[0])\n"
     ]
    }
   ],
   "source": [
    "A['reviews.doRecommend'] = A['reviews.doRecommend'].fillna(A['reviews.doRecommend'].mode()[0])\n",
    "A['reviews.doRecommend'] = A['reviews.doRecommend'].astype('category')"
   ]
  },
  {
   "cell_type": "code",
   "execution_count": 172,
   "id": "cecb282f",
   "metadata": {},
   "outputs": [
    {
     "data": {
      "text/plain": [
       "np.int64(0)"
      ]
     },
     "execution_count": 172,
     "metadata": {},
     "output_type": "execute_result"
    }
   ],
   "source": [
    "A['reviews.doRecommend'].isnull().sum()"
   ]
  },
  {
   "cell_type": "code",
   "execution_count": 173,
   "id": "30da7f4e",
   "metadata": {},
   "outputs": [
    {
     "data": {
      "text/plain": [
       "[True, False]\n",
       "Categories (2, bool): [False, True]"
      ]
     },
     "execution_count": 173,
     "metadata": {},
     "output_type": "execute_result"
    }
   ],
   "source": [
    "A['reviews.doRecommend'].unique()"
   ]
  },
  {
   "cell_type": "code",
   "execution_count": 174,
   "id": "6fbb60c1",
   "metadata": {},
   "outputs": [
    {
     "data": {
      "text/plain": [
       "reviews.doRecommend\n",
       "True     1561\n",
       "False      36\n",
       "Name: count, dtype: int64"
      ]
     },
     "execution_count": 174,
     "metadata": {},
     "output_type": "execute_result"
    }
   ],
   "source": [
    "A['reviews.doRecommend'].value_counts()"
   ]
  },
  {
   "cell_type": "code",
   "execution_count": 175,
   "id": "fce23304",
   "metadata": {},
   "outputs": [
    {
     "data": {
      "text/plain": [
       "id                       object\n",
       "categories               object\n",
       "dateAdded                object\n",
       "dateUpdated              object\n",
       "dimension              category\n",
       "manufacturer           category\n",
       "name                     object\n",
       "prices                   object\n",
       "reviews.date           category\n",
       "reviews.doRecommend    category\n",
       "reviews.numHelpful      float64\n",
       "reviews.rating          float64\n",
       "reviews.username         object\n",
       "weight                   object\n",
       "dtype: object"
      ]
     },
     "execution_count": 175,
     "metadata": {},
     "output_type": "execute_result"
    }
   ],
   "source": [
    "A.dtypes"
   ]
  },
  {
   "cell_type": "code",
   "execution_count": 176,
   "id": "9ebae915",
   "metadata": {},
   "outputs": [
    {
     "data": {
      "text/plain": [
       "array([139., 126.,  69.,   2.,  17.,  nan, 303., 138., 207., 245.,  43.,\n",
       "        14.,   5.,  30.,  68., 123., 122.,  36., 402., 330.,  85.,  59.,\n",
       "       694.,  38.,  15.,  22.,   4., 719., 641., 498., 716., 739.,  48.,\n",
       "         8.,  24.,   3.,  19.,  13., 671., 936., 206., 586., 120., 160.,\n",
       "        25., 769., 357., 656.,  50., 669., 194., 350., 848., 294., 729.,\n",
       "        56.,   6.,  64.,  34.,  83.,  29.,  27., 143.,  16.,  18.,  31.,\n",
       "        61.,  82., 581., 870., 177., 215.,  88., 599., 221., 750., 790.,\n",
       "       102., 323., 834.,  74.,  11., 346.,  89., 111., 190., 172.,   7.,\n",
       "         9.,  35.,  63., 449., 620., 142.,  87.,  12.,  40., 281., 216.,\n",
       "       822., 185., 944., 551., 182., 685., 432., 975.,  20., 745., 236.,\n",
       "       407., 287., 249., 170., 112., 201.,  37.,  41.,  21.,  66., 147.,\n",
       "       125., 403., 517.,   0., 180., 228., 997., 505., 965., 443., 358.,\n",
       "       510., 326., 151., 890., 754., 902., 512.,  75., 205., 456., 932.,\n",
       "       771., 459.,  52., 781., 966., 539., 704.,  76., 427., 928., 914.,\n",
       "       988., 633., 937., 509., 971., 448., 426., 681., 527., 155., 312.,\n",
       "       806., 295.,   1., 192., 315., 470., 390., 446., 372., 368., 118.,\n",
       "       391.,  10.,  23., 335., 318., 164., 136.])"
      ]
     },
     "execution_count": 176,
     "metadata": {},
     "output_type": "execute_result"
    }
   ],
   "source": [
    "A['reviews.numHelpful'].unique()"
   ]
  },
  {
   "cell_type": "code",
   "execution_count": 177,
   "id": "d9f979ce",
   "metadata": {},
   "outputs": [],
   "source": [
    "A['reviews.numHelpful'] = A['reviews.numHelpful'].fillna(A['reviews.numHelpful'].mean())\n",
    "A['reviews.numHelpful'] = A['reviews.numHelpful'].astype('category')"
   ]
  },
  {
   "cell_type": "code",
   "execution_count": 178,
   "id": "22dbbd9f",
   "metadata": {},
   "outputs": [
    {
     "data": {
      "text/plain": [
       "[139.0, 126.0, 69.0, 2.0, 17.0, ..., 23.0, 335.0, 318.0, 164.0, 136.0]\n",
       "Length: 183\n",
       "Categories (183, float64): [0.0, 1.0, 2.0, 3.0, ..., 971.0, 975.0, 988.0, 997.0]"
      ]
     },
     "execution_count": 178,
     "metadata": {},
     "output_type": "execute_result"
    }
   ],
   "source": [
    "A['reviews.numHelpful'].unique()"
   ]
  },
  {
   "cell_type": "code",
   "execution_count": 179,
   "id": "1dec7596",
   "metadata": {},
   "outputs": [
    {
     "data": {
      "text/plain": [
       "reviews.numHelpful\n",
       "83.584444     697\n",
       "0.000000      504\n",
       "2.000000       23\n",
       "3.000000       18\n",
       "1.000000       16\n",
       "             ... \n",
       "966.000000      1\n",
       "971.000000      1\n",
       "975.000000      1\n",
       "988.000000      1\n",
       "997.000000      1\n",
       "Name: count, Length: 183, dtype: int64"
      ]
     },
     "execution_count": 179,
     "metadata": {},
     "output_type": "execute_result"
    }
   ],
   "source": [
    "A['reviews.numHelpful'].value_counts()"
   ]
  },
  {
   "cell_type": "code",
   "execution_count": 180,
   "id": "ff5ca0b0",
   "metadata": {},
   "outputs": [
    {
     "data": {
      "text/plain": [
       "np.int64(0)"
      ]
     },
     "execution_count": 180,
     "metadata": {},
     "output_type": "execute_result"
    }
   ],
   "source": [
    "A['reviews.numHelpful'].isnull().sum()"
   ]
  },
  {
   "cell_type": "code",
   "execution_count": 181,
   "id": "16bf84f2",
   "metadata": {},
   "outputs": [
    {
     "data": {
      "text/plain": [
       "id                       0\n",
       "categories               0\n",
       "dateAdded                0\n",
       "dateUpdated              0\n",
       "dimension                0\n",
       "manufacturer             0\n",
       "name                     0\n",
       "prices                   0\n",
       "reviews.date             0\n",
       "reviews.doRecommend      0\n",
       "reviews.numHelpful       0\n",
       "reviews.rating         420\n",
       "reviews.username        17\n",
       "weight                 911\n",
       "dtype: int64"
      ]
     },
     "execution_count": 181,
     "metadata": {},
     "output_type": "execute_result"
    }
   ],
   "source": [
    "A.isnull().sum()"
   ]
  },
  {
   "cell_type": "code",
   "execution_count": 182,
   "id": "2fbeaede",
   "metadata": {},
   "outputs": [
    {
     "data": {
      "text/plain": [
       "id                       object\n",
       "categories               object\n",
       "dateAdded                object\n",
       "dateUpdated              object\n",
       "dimension              category\n",
       "manufacturer           category\n",
       "name                     object\n",
       "prices                   object\n",
       "reviews.date           category\n",
       "reviews.doRecommend    category\n",
       "reviews.numHelpful     category\n",
       "reviews.rating          float64\n",
       "reviews.username         object\n",
       "weight                   object\n",
       "dtype: object"
      ]
     },
     "execution_count": 182,
     "metadata": {},
     "output_type": "execute_result"
    }
   ],
   "source": [
    "A.dtypes"
   ]
  },
  {
   "cell_type": "code",
   "execution_count": 183,
   "id": "f20917ab",
   "metadata": {},
   "outputs": [
    {
     "data": {
      "text/plain": [
       "array([ 5.,  4., nan,  3.,  1.,  2.])"
      ]
     },
     "execution_count": 183,
     "metadata": {},
     "output_type": "execute_result"
    }
   ],
   "source": [
    "A['reviews.rating'].unique()"
   ]
  },
  {
   "cell_type": "code",
   "execution_count": 184,
   "id": "2408a608",
   "metadata": {},
   "outputs": [
    {
     "data": {
      "text/plain": [
       "reviews.rating\n",
       "5.0    741\n",
       "4.0    236\n",
       "3.0    124\n",
       "1.0     42\n",
       "2.0     34\n",
       "Name: count, dtype: int64"
      ]
     },
     "execution_count": 184,
     "metadata": {},
     "output_type": "execute_result"
    }
   ],
   "source": [
    "A['reviews.rating'].value_counts()"
   ]
  },
  {
   "cell_type": "code",
   "execution_count": 185,
   "id": "485e4ea6",
   "metadata": {},
   "outputs": [],
   "source": [
    "A['reviews.rating'] = A['reviews.rating'].fillna(A['reviews.rating'].mean())\n",
    "A['reviews.rating'] = A['reviews.rating'].round(0)\n",
    "A['reviews.rating'] = A['reviews.rating'].astype('category')"
   ]
  },
  {
   "cell_type": "code",
   "execution_count": 186,
   "id": "47629b63",
   "metadata": {},
   "outputs": [
    {
     "data": {
      "text/plain": [
       "[5.0, 4.0, 3.0, 1.0, 2.0]\n",
       "Categories (5, float64): [1.0, 2.0, 3.0, 4.0, 5.0]"
      ]
     },
     "execution_count": 186,
     "metadata": {},
     "output_type": "execute_result"
    }
   ],
   "source": [
    "A['reviews.rating'].unique()"
   ]
  },
  {
   "cell_type": "code",
   "execution_count": 187,
   "id": "77111f72",
   "metadata": {},
   "outputs": [
    {
     "data": {
      "text/plain": [
       "reviews.rating\n",
       "5.0    741\n",
       "4.0    656\n",
       "3.0    124\n",
       "1.0     42\n",
       "2.0     34\n",
       "Name: count, dtype: int64"
      ]
     },
     "execution_count": 187,
     "metadata": {},
     "output_type": "execute_result"
    }
   ],
   "source": [
    "A['reviews.rating'].value_counts()"
   ]
  },
  {
   "cell_type": "code",
   "execution_count": 188,
   "id": "63607808",
   "metadata": {},
   "outputs": [
    {
     "data": {
      "text/plain": [
       "id                       object\n",
       "categories               object\n",
       "dateAdded                object\n",
       "dateUpdated              object\n",
       "dimension              category\n",
       "manufacturer           category\n",
       "name                     object\n",
       "prices                   object\n",
       "reviews.date           category\n",
       "reviews.doRecommend    category\n",
       "reviews.numHelpful     category\n",
       "reviews.rating         category\n",
       "reviews.username         object\n",
       "weight                   object\n",
       "dtype: object"
      ]
     },
     "execution_count": 188,
     "metadata": {},
     "output_type": "execute_result"
    }
   ],
   "source": [
    "A.dtypes"
   ]
  },
  {
   "cell_type": "code",
   "execution_count": 189,
   "id": "82541d7f",
   "metadata": {},
   "outputs": [
    {
     "data": {
      "text/plain": [
       "array(['Cristina M', 'Ricky', 'Tedd Gardiner', 'Dougal',\n",
       "       'Miljan David Tanic', 'Kelvin Law', 'Bandler', 'Miguel Martinez',\n",
       "       'Magnus Brattemark', 'Janet Matthews Jan', \"John Kat's the brains\",\n",
       "       'samira', 'Louis simard', 'JanetC', 'Shepherd', 'Brenda',\n",
       "       'Fil Gambatesa', 'Roy Bennett', 'satisfied customer',\n",
       "       'Jeffrey Stanley', 'Matthew Coenen', 'Ron Cronovich', 'C. Tipton',\n",
       "       'D. Tatro', 'M. Lansford Kindle fave', 'Jean F. Bryant Wordwright',\n",
       "       'Jeff Maddox', 'Mr Goodwrench', 'ken', 'Lucky Luke', 'George',\n",
       "       'Kelly Beaumont', 'Alexandr Petak', 'Di', 'Gregory P. Baker',\n",
       "       'Mandy', 'Dallas', 'William Hardin', 'D. Miyao', 'dm',\n",
       "       'Corey Clarke', 'A.C', 'Vincent Pompei', 'Bob', 'JB 85',\n",
       "       'C. Morrow', 'Ryan', 'Jbird', 'Devin Stephens',\n",
       "       'CHRISTOPHER JONES', 'B. Tarbuck', 'Amazon Reviewer',\n",
       "       'Samuel Ruiz', 'Tina L. Harmon', 'Amazon Customer',\n",
       "       'Things I Love Like,', 'Kimberly R. Norton', 'Randall M.',\n",
       "       'Dean S', 'Erika S.', 'Ashley', 'Linda Watson', 'olivarulez',\n",
       "       'Theresa', 'JJCEO', 'Liberty Standard', 'Frank Epstein',\n",
       "       'Michael Gallagher', 'Ekgeis', 'JEREMY L THOMPSON', 'Daultim',\n",
       "       'Jerry', 'Celeste Z.', 'Rustic', 'MoonX', 'BShaw', 'Desert Rat',\n",
       "       'J. Chambers', 'Irene', 'FreeSpirit', \"Mocha's mom\", 'Lou1492',\n",
       "       'Clarissa Marshall', 'Peter Rodick', 'rdbud', 'RPL', 'Ni',\n",
       "       'Quentin Moore', 'kas9103', 'Sandbagger', 'Sandy', 'donna', 'GMA',\n",
       "       'Sara B', 'Giacomo', 'gamecrazy', 'G Fontaine', 'Dixie Bee',\n",
       "       'Alex Johnson', 'Beaches', 'James H Mann', 'Shannon S.',\n",
       "       'Daniel Altenburg', 'K.E. Fuhrmann', 'sam', 'Kenneth Jung',\n",
       "       'Phil (not) in Magnolia', 'Pedro P. Cunha', 'Christopher Le',\n",
       "       'S. Goldstein', 'Lyn Craven', 'MissOliviaP', 'Sara Krzykowski',\n",
       "       'Alex', 'Dina', 'Linda S Fox', 'Snowmass', 'Robert Beeman',\n",
       "       'Philip J. Bohlken', 'Marianne Rattan', 'mark d.', 'Bill-NM',\n",
       "       'b52john', 'Spiral42 Trivia Fanatic', 'Debora Helen Akers',\n",
       "       'Audrey Macedo-Burman', 'Alice', 'Gena Mueller', 'Nuknuk', 'JDB',\n",
       "       'Bron Bron', 'Ralph A. Fenner zonker2', 'Max Nancy', 'txtech1997',\n",
       "       'IMA', 'cdmr9816', 'A. Dent Aragorn', 'LKelly', 'Lynn Vernon',\n",
       "       'Greg Prachyl', 'R. Colley RC', 'Robert Earl Weiss bobearlw',\n",
       "       'Caryl Faulkender', 'awarlock awarlock', 'TheDoctor2250',\n",
       "       'T. Dennis', 'Maria', 'EvenGodHatesApple', 'KG', 'Jadeada',\n",
       "       'WiseShopper', 'Eduardo Mc Allister Eduardo Mc Allister',\n",
       "       'Mike Rowan', 'Thomas Smolen', 'Lynne Matlack Kindle Junkie',\n",
       "       'M Sean Browne', 'Gregory V Fawley', 'Meddle',\n",
       "       'Jason Young J. Tak Filmproducer', 'Amazonianator', 'GameWarden',\n",
       "       'Jim Wiggs', 'Paul L. Thwaites', 'jrodie', 'CV', 'Thomas B',\n",
       "       'David R. Lowe', 'Vera H. Lortie vjh10679', 'Geronimo', 'kpc001',\n",
       "       'Don Clayton', 'Amazon Customer sarahstorrs', 'James Springer',\n",
       "       'George Welling', 'Ian Keeper', 'Sami H.', 'Amadeus B. Klein MG',\n",
       "       'Olde Uncle Mark Mark Williamson', 'Larry G Darling',\n",
       "       'G. P. Smalarz G.P.Smalarz', 'Jonelyne caruso', 'corydave', 'GEP',\n",
       "       'spartyfan', 'Jennifer Donovan 5minutesforbooks',\n",
       "       'M. Majors msmajors67', 'explore360', 'Craig Thompson', 'M B',\n",
       "       'Ted Coombs', 'Chris Lunsford', 'Cliff Korth', 'Erik',\n",
       "       'Grace L. Thompson Industrial Engineer', 'Juan2three4',\n",
       "       'charles tanner', 'M. Howard tek54', 'B.Hyde', 'Dendraspis',\n",
       "       'Mike Dorman', 'Jim Long', 'DaveF',\n",
       "       'Donald J. Obrien computer gadgets', 'BioHazardSamurai92',\n",
       "       'mysticgeek', 'Arlene Kirby', 'BONNIE', 'Exercise Happy', 'Pat',\n",
       "       'Michael Nys', 'hjhomee', 'Daniel L. McShan', 'Talentless',\n",
       "       'Barb P', 'Lauren', 'Fermata D.S. al FINE', 'Hootiewoo',\n",
       "       'Michael King', 'TKE', 'Eli Ojeda', 'Candy Beauchamp CandysRaves',\n",
       "       'Amazon Enthusiast The Lucky One', 'Lon J. Seidman lon lon.tv',\n",
       "       'Jenny Bean', 'wfojon', 'Grandmaof4', 'C G', 'Leslie Kennedy',\n",
       "       'Len Burroughs', 'Scott Hanel', 'The Old Dog', 'Dr. Danny',\n",
       "       'Joe Ventresco', 'Steven Moren', 'Marilyn Holcomb',\n",
       "       'Maureen Clement', 'Angela Thoburn', 'G. Bruce White',\n",
       "       'Mom goes to school', 'carolyn s.', 'Wanda J.', 'Amanda0205',\n",
       "       'Dennis Pendergrass', 'Rosemary Williams', 'Julia', 'Biblio Ninja',\n",
       "       'Kindle Lover', 'Emmie Golemi', 'Nathan R.', 'Peggy',\n",
       "       'Sunspotbaby', 'Jessica', 'Stemwind', 'FLgurrl', 'Maggie', 'DC',\n",
       "       'EE0715', 'Nickolas Snyder', 'Crystal Shipley', 'Dorothy Bengtson',\n",
       "       'J. Seeburger', 'Flight-ER-Doc', 'Scott716', 'amh',\n",
       "       'Regina G.Fetty', 'L. Kirk', 'Tricia L', 'ShirtGuy', 'Carmylita',\n",
       "       'Aaron', 'Tracy', 'T. Wicker', 'M. Erb', 'J. Ts', 'bklynfinest',\n",
       "       'TerriG', 'David Mallinder', 'Dimples', 'Darlene', 'Bill M.',\n",
       "       'Joyce AC', 'AMA', 'Jeremy Hutchings', 'FreeReader', 'M.',\n",
       "       'William', 'aklouie', 'iiiireader', 'renatae33', 'Jim Samsen',\n",
       "       'Tenny B', 'RS', 'Brian Cox', 'TODD', 'Melissa J',\n",
       "       'Eilhard Molina', 'Nikki', 'Lindsay Slater', 'Samantha',\n",
       "       'Nana2kearaj', 'ktollstam', 'TD', 'Adam', 'AlphaKryptonyte',\n",
       "       'Mike W.', 'Earthling1984', 'C. Wegenka', 'gretchen fraley',\n",
       "       'Betty Jaggers', 'Robyn R Larkin', 'Laura Duran', 'arual2384',\n",
       "       'Jacob St Peter', 'Kindle Customer', 'Carrie Dendy', 'Brett',\n",
       "       'Rachel', 'MaGold', 'RaVen', 'Shira Sandford', 'Tech Insider',\n",
       "       'J. Welch', 'Anna', 'Bookie Monster', 'Devin', 'DC Mom',\n",
       "       'KimberlyinMN', 'Urduja', 'Alex Yandukin', 'Knicky', 'TL',\n",
       "       'NicoleReviewsItAll', 'wadas1989', 'DBoogie', 'NF', 'MarkM',\n",
       "       'Christine Abraham', 'Judy Schechter', 'Peter', 'D. Carlson',\n",
       "       't. mcgritty', 'MWebb', \"P'uie\", 'Roy Estaris', 'DJ', 'Bryant R.',\n",
       "       'Lucky Jason', 'Amazon and AmazonPrime Rock!', 'Matthew Johnson',\n",
       "       'G.Hulse', 'TM massage', 'Darren Levine', 'Michael S', 'Alex S',\n",
       "       'Michael Davis', 'E. M. Foner (SciFi Author)', 'J-Ro!', 'Del',\n",
       "       'Richard Bouchard', nan, 'Belinda G. Underhill', 'Deborah Ewert',\n",
       "       'Lady Lou', 'BASig', 'David G. Moore', 'Samuel Chell',\n",
       "       'Ginger Shields', 'Janice Mae Dunlevy', 'Carlos',\n",
       "       'please let us know.', 'Deanokat', 'Heather A', 'Casey',\n",
       "       'Tazman3582', '25Firefighter', 'CraigJ5974', 'JBD1', 'Solserfr',\n",
       "       'barry', 'Akrin', 'Frangelica', 'Czer', 'evolracing', 'Jdnlex',\n",
       "       '1234', 'Brustman', '1soni', 'Abelitonj', 'BigT', 'Meme',\n",
       "       'Boschbeliever', 'Willie4', 'Diva42', 'OfDVine', 'redluong',\n",
       "       'Preacherman', 'Pogera', 'Mike', 'Ceairra', 'TJay', 'Fenn0316',\n",
       "       'Neeko', '5bros', 'Scottlyn', 'Moms', 'Rick', 'PapaC', 'Jvier',\n",
       "       'TheTravelerRN', 'LARudi', 'Will', 'DaddyLife', 'hulio5',\n",
       "       'Flutterbye216', 'smvere', 'Cable', 'mimi', 'Noshowcharlie',\n",
       "       'AC118', 'Bigglare', 'Cinzia', 'Porsche4me', 'GadgetGirl',\n",
       "       'Stevarino', 'Susie', 'BestBuyjukie', 'HBSurferMan85', 'Terri',\n",
       "       'cecook82', 'Franco', 'Dave845', 'Jimmy', 'Louieg', 'Caboman',\n",
       "       'AMA2', 'ts120', 'Luvlyone', 'Kevin6868', 'Evelyn1', 'JustOneMan',\n",
       "       'Scot', 'Buckeyew', 'Luvlymissez16', 'Werda64', 'BobbyG',\n",
       "       'Lanette', 'Littledavila', 'Alexgsp', 'Outofcrayons', 'JeffM',\n",
       "       'funfam3', 'Good', 'clc4912', 'NTKramer', 'DK10', 'Edelenjacob',\n",
       "       'SuperNintendoChalmers', 'denny', 'BKKTH', 'IceisMN612',\n",
       "       'Jusandy25', 'Sevirj89', 'bill', 'Jeepster', 'John', 'Blaze',\n",
       "       'Mom2Kingston', 'Venti', 'Collygirl', 'Bertram', 'Rocky', 'Missy',\n",
       "       'robo', 'MikeG', 'dwd3885', 'Karl', 'Kenny', 'Player99',\n",
       "       'Jpsdrivesfast', 'Rabah', 'CPLPUN', 'Vstorageerich', 'Beke',\n",
       "       'Philme', 'Chris201', 'Jenn', '1215', 'Pick', 'Davesmith82',\n",
       "       'MikeNof', 'Hunter', 'Saulny', 'RVCOS', 'SamMan', 'WKKA',\n",
       "       'wax0pal', 'Robbie', 'Tapmethis', 'ricanaustin', 'Tttt', 'JPS71',\n",
       "       'Rich', 'Pete', 'Paul', 'doclee', 'paul', 'Sassy', 'GPJR',\n",
       "       'bob2531', 'Cheryl', 'Savageks', 'marie', 'mrmystery', 'Np71',\n",
       "       'Happy', 'Alky', 'MaverickSmooth', 'MrGGarry', 'fatpants',\n",
       "       'BABYDURR', 'momof2', 'Steve', 'notoriouspip', 'betty883',\n",
       "       'RUGE777', 'TuxToaster', 'chris', 'Dave', 'JohnA', 'beezth',\n",
       "       'Nasa', 'BNBFan', 'cantuc', 'bossfan', 'MacG', 'fvsucat', 'Alexa',\n",
       "       'RugbyRef', 'cc2wclc', 'Rickyvic', 'Muzz2160', 'Justme',\n",
       "       'Nunyun345', 'cheeserat', 'Alan', 'Nick', 'minded', 'DaveGS',\n",
       "       'Kathy4901', 'oldschool', 'JustMe', 'tinkerbell2', 'Shaneab',\n",
       "       'cOBRA', 'Gizzard', 'ShayEric', 'Bamafever78', 'Jpalmer00',\n",
       "       'GeorgeO', 'Tony', 'BigToe', 'Dcmurphy1515', 'Ohellknow',\n",
       "       'danmiller', 'Janet', 'samboo', 'str4920', 'jaxnvilleguy',\n",
       "       'Dave3635', 'apple21man', 'Bandit', 'marathonman', 'Friend',\n",
       "       'jimbo', 'Breezy', 'Maryann', 'father', 'Loretta', 'Gdub61',\n",
       "       'Gerald', 'Supahfree', 'Denverbrian', 'kmshirley', 'chloe',\n",
       "       'Janderson10', 'tbandit64', 'rater100', 'ERod', 'katniss',\n",
       "       'Johnnie', 'Calin44', 'SCHO', 'NeoBlaze', 'SLS09', 'Gaileod',\n",
       "       'Slamajama', 'rfran704', 'TinaV6201', 'In4dfun2', 'grandma',\n",
       "       'lntr4550', 'Wgnyfinest', 'TheOne', 'Jaspendlove', 'Ottoman',\n",
       "       'MAVERY11', 'grock2727', 'pickle', 'Tommy', 'Smooze3', 'Yeoman742',\n",
       "       'Louavulmike', 'SBgamer', 'Gmama', 'Herb', 'mike', 'pmcc',\n",
       "       'jvanderstel', 'p12345', 'brdlvr', 'Niceguy', 'sparkles', 'Kimber',\n",
       "       'Mitch', 'natm', 'Robbleo', 'kcerps', 'Phobia3000', 'Concert',\n",
       "       'Northefist', 'coach3', 'brettdavis4', 'Abbyks', 'JohnS',\n",
       "       'cedriic', 'p2j2m', 'FloridaOh9', 'kennyman', '1-Apr', 'Spazdude',\n",
       "       'LavaBoss', 'Ces0983', 'ElPollo', 'VCMN', 'Sean', 'rhex', 'moose',\n",
       "       'ShawPhoto', 'Pita', 'BddoT2', 'Skip', 'shaithus', 'Jlimon',\n",
       "       'tbistone', 'romaeeeeee', 'JOCHE', 'AmandaPanda', 'EliteBuyer',\n",
       "       'Buyer', 'Jon12', 'Jayrock2', 'Anonymous', 'Roger', 'Papa',\n",
       "       'Webkf1', 'VaBeach', 'PABuyer', 'Knack', 'Heather', 'opchiasm',\n",
       "       'Wardog21', 'Rigbyabador', 'EmilyG', 'toeka', 'CellPhoneGuy',\n",
       "       'Yellowman99', 'Risha37', 'Eaglenut1', 'JAdow', 'Firemedic609',\n",
       "       'RonGT', 'Flintlock', 'Dirtdiver069', 'pneks2001', 'Emilybeaver',\n",
       "       'Dani', 'DJ96', 'MediaMom', 'Harper', 'PT109', 'BigDaddy55',\n",
       "       'Fishnan10', 'Fern', 'Tinkerer', 'GoPats', 'gooddeals', 'tifnbil',\n",
       "       'Snowman8', 'photoguy', 'Zigcredo', 'Coco', 'jeopcon69',\n",
       "       'mackingInternetswithDOGE', 'nvcop', 'Brian', 'Bunny', 'Msvlm05',\n",
       "       'MISTERT', 'ShanNick', 'Ranger', 'Albert', 'DoGg', 'dani',\n",
       "       'ladyglencoe', 'TechGuy', 'Courtney', '7011', 'Triman', 'Finicky',\n",
       "       'Jobendab', 'mssilverfox', 'Teaz', 'GEM310', 'JayPA', 'MusicLover',\n",
       "       'Danny', 'RickR', 'Hydro', 'Daniel', 'PamJK', 'Mac1', 'Dylon',\n",
       "       'Lafeyette', 'Larry', 'Smitty', 'shar555', 'agzela',\n",
       "       'davepjoneshen', 'Vaiolation', 'JP315', 'haiisenberg', 'Carbob',\n",
       "       'ibeb71', 'Amblate', 'Matty', 'Holmes', 'Dpadilla', 'OLS45',\n",
       "       'LookoutNoah', 'MzPat', 'AndreandDeb', 'Rittir', 'Kerrdogg',\n",
       "       'GG13', 'Dspeers', 'Cody', 'sa88', 'ITGuy', 'Eze110', 'Davek',\n",
       "       'Scottief', 'AnthonyZ', 'jacoba', 'Akadink', 'JDMAlamo',\n",
       "       'ohionana', 'MovieGuyOH', 'bkgrigsby725', 'richmond282', 'B6W356',\n",
       "       'unplug', 'MBV1', 'Happytekki', 'bbuy001', 'DPC3', 'Judy',\n",
       "       'Ripper', 'ezze110', 'AAAC', 'FB0001', 'Marb', 'Scearls', 'Mata',\n",
       "       'cfxu', 'techjunkie', 'Mainesnow', 'TerriD', 'MsCapricorn',\n",
       "       'JONESNEWYORK414', 'davidvb', 'Technogeekster', 'bebo', 'Ktee',\n",
       "       'DWOdom', 'Ryeguy74', 'Rose7', 'thoroughlymorgan', 'sta123',\n",
       "       'mrhockey79', 'BuckS', 'IbDAH', 'Writer', 'Sig20guy', 'Janfer',\n",
       "       'PlasmaGuys', 'remoteuser13', 'eopp', 'Vette', 'techgeek',\n",
       "       'ShaneT', 'Doug', 'metacuate', 'da9rich', 'LillyMiami', 'Jo55',\n",
       "       'Gamer', 'Consumer', 'Poppycjb', 'compaq38', 'jude70', 'CarFren',\n",
       "       'criscot', 'Gucci', 'Drjim', 'Zack', 'Montiel168', 'Pannow',\n",
       "       'Captsky', 'LooLoo777', 'Bebi', 'dealhunter', 'Toddo', 'Bsmm',\n",
       "       'B545', 'Princess', 'Diesel', 'Bugbasher', 'hondaguy',\n",
       "       'Lisadave1999', 'TempeDiablo', 'Snicoled17', 'MikeB',\n",
       "       'DodgeDart920', 'Crom23', 'Izzy', 'MaloIrukandji', 'WMMANAGEMENT',\n",
       "       'RonRon', 'vishal', 'Brayden', 'jlivar', 'kaka', 'has9yale',\n",
       "       'LeeF', 'Sheldonsgirl', 'iggy', 'MonLaRose', 'Kim1223', 'Jonathan',\n",
       "       'Townes2', 'Lizmomof4', 'Sparkygirl', 'BlueBuds', 'comars', 'User',\n",
       "       'StereoDJ', 'TatisLexa', 'Coffeeme', 'Timmer', 'KerryFitz',\n",
       "       'Brantin', 'Blue', 'wirelesssassyowner', 'Evo24', 'Bones',\n",
       "       'Love2Swim', 'cjuli', 'Gurkha', 'Stormie', 'Grimdad', 'hzee',\n",
       "       'Vanessa', 'Mamag', 'Grandma', 'BROd', 'Electronicstech', 'Hank',\n",
       "       'Grace', 'rayray', 'Langers1234', 'Melody9',\n",
       "       'Richard The Buying Hearted', 'Julie :-)', 'Jon Ferrante',\n",
       "       'Laurel Krahn', 'Ismael Rivera', 'Yang Hua', 'zman',\n",
       "       'Trever Murawski', 'Javier Gutierrez', 'Stow Fresh', 'Somebody',\n",
       "       'Jeffrey N. Fritz', 'kemilie', 'Jeffrey C Drywater', 'T. Masoner',\n",
       "       'Shain Mercer', 'cc', 'BFI66', 'Kschles', 'Doctor Bertram',\n",
       "       'T. Medley', 'Marco', 'Linda L. Baughan', 'Robin Landry', 'HSBC',\n",
       "       'X. Liu', 'MarieBee', 'william lombardo', 'Aaron E. Knauff',\n",
       "       'Jacob', 'A. Younan', 'Philip L.', 'Andrew', 'Victor L.',\n",
       "       'Rebecca retired Midwest chef', 'Katie Wilburn', 'Mike Thornton',\n",
       "       'rupert', 'Eric', 'Upstate NY SAHM', 'Fixer-upper', 'Dean Canne',\n",
       "       'Gilberto Alcantar', 'Adriana Osorio', 'dosiere', 'M.C.',\n",
       "       'Jakezoe', 'Rebecca Midwest', 'Colby R. Zell', 'Honest Rob',\n",
       "       'parisa', 'TMagee', 'L. Ellis', 'Donna Albea', 'Nathaniel',\n",
       "       'Lisandro E. Roque', 'GregAmandawith4', 'Meg Ashley', 'DIANE K'],\n",
       "      dtype=object)"
      ]
     },
     "execution_count": 189,
     "metadata": {},
     "output_type": "execute_result"
    }
   ],
   "source": [
    "A['reviews.username'].unique()"
   ]
  },
  {
   "cell_type": "code",
   "execution_count": 190,
   "id": "6cd47d46",
   "metadata": {},
   "outputs": [
    {
     "data": {
      "text/plain": [
       "np.int64(17)"
      ]
     },
     "execution_count": 190,
     "metadata": {},
     "output_type": "execute_result"
    }
   ],
   "source": [
    "A['reviews.username'].isnull().sum()"
   ]
  },
  {
   "cell_type": "code",
   "execution_count": 191,
   "id": "85b48718",
   "metadata": {},
   "outputs": [
    {
     "data": {
      "text/plain": [
       "np.int64(911)"
      ]
     },
     "execution_count": 191,
     "metadata": {},
     "output_type": "execute_result"
    }
   ],
   "source": [
    "A['weight'].isnull().sum()"
   ]
  },
  {
   "cell_type": "code",
   "execution_count": 192,
   "id": "d33fa952",
   "metadata": {},
   "outputs": [],
   "source": [
    "A['reviews.username'] = A['reviews.username'].fillna('others')\n",
    "A['reviews.username'] = A['reviews.username'].astype('category')"
   ]
  },
  {
   "cell_type": "code",
   "execution_count": 193,
   "id": "f45642d7",
   "metadata": {},
   "outputs": [
    {
     "data": {
      "text/plain": [
       "['Cristina M', 'Ricky', 'Tedd Gardiner', 'Dougal', 'Miljan David Tanic', ..., 'Nathaniel', 'Lisandro E. Roque', 'GregAmandawith4', 'Meg Ashley', 'DIANE K']\n",
       "Length: 950\n",
       "Categories (950, object): ['1-Apr', '1215', '1234', '1soni', ..., 'wfojon', 'william lombardo', 'wirelesssassyowner', 'zman']"
      ]
     },
     "execution_count": 193,
     "metadata": {},
     "output_type": "execute_result"
    }
   ],
   "source": [
    "A['reviews.username'].unique()"
   ]
  },
  {
   "cell_type": "code",
   "execution_count": 194,
   "id": "5f9337d1",
   "metadata": {},
   "outputs": [
    {
     "data": {
      "text/plain": [
       "reviews.username\n",
       "A. Younan             59\n",
       "William Hardin        58\n",
       "Andrew                43\n",
       "Victor L.             30\n",
       "NF                    29\n",
       "                      ..\n",
       "wax0pal                1\n",
       "wfojon                 1\n",
       "william lombardo       1\n",
       "wirelesssassyowner     1\n",
       "5bros                  1\n",
       "Name: count, Length: 950, dtype: int64"
      ]
     },
     "execution_count": 194,
     "metadata": {},
     "output_type": "execute_result"
    }
   ],
   "source": [
    "A['reviews.username'].value_counts()"
   ]
  },
  {
   "cell_type": "code",
   "execution_count": 195,
   "id": "3a5faac8",
   "metadata": {},
   "outputs": [
    {
     "data": {
      "text/plain": [
       "id                       0\n",
       "categories               0\n",
       "dateAdded                0\n",
       "dateUpdated              0\n",
       "dimension                0\n",
       "manufacturer             0\n",
       "name                     0\n",
       "prices                   0\n",
       "reviews.date             0\n",
       "reviews.doRecommend      0\n",
       "reviews.numHelpful       0\n",
       "reviews.rating           0\n",
       "reviews.username         0\n",
       "weight                 911\n",
       "dtype: int64"
      ]
     },
     "execution_count": 195,
     "metadata": {},
     "output_type": "execute_result"
    }
   ],
   "source": [
    "A.isnull().sum()"
   ]
  },
  {
   "cell_type": "code",
   "execution_count": 196,
   "id": "e8e323f4",
   "metadata": {},
   "outputs": [
    {
     "data": {
      "text/plain": [
       "id                       object\n",
       "categories               object\n",
       "dateAdded                object\n",
       "dateUpdated              object\n",
       "dimension              category\n",
       "manufacturer           category\n",
       "name                     object\n",
       "prices                   object\n",
       "reviews.date           category\n",
       "reviews.doRecommend    category\n",
       "reviews.numHelpful     category\n",
       "reviews.rating         category\n",
       "reviews.username       category\n",
       "weight                   object\n",
       "dtype: object"
      ]
     },
     "execution_count": 196,
     "metadata": {},
     "output_type": "execute_result"
    }
   ],
   "source": [
    "A.dtypes"
   ]
  },
  {
   "cell_type": "code",
   "execution_count": 197,
   "id": "586156e2",
   "metadata": {},
   "outputs": [
    {
     "data": {
      "text/plain": [
       "array(['205 grams', '1.1 pounds', nan, '1.6 ounces', '1.75 lbs',\n",
       "       '0.8 ounces', '4 ounces', '5 ounces', '4.6 ounces', '2.4 ounces'],\n",
       "      dtype=object)"
      ]
     },
     "execution_count": 197,
     "metadata": {},
     "output_type": "execute_result"
    }
   ],
   "source": [
    "A['weight'].unique()"
   ]
  },
  {
   "cell_type": "code",
   "execution_count": 198,
   "id": "cd7cd429",
   "metadata": {},
   "outputs": [
    {
     "data": {
      "text/plain": [
       "weight\n",
       "1.75 lbs      542\n",
       "1.1 pounds     32\n",
       "205 grams      23\n",
       "1.6 ounces     19\n",
       "4 ounces       19\n",
       "2.4 ounces     17\n",
       "0.8 ounces     12\n",
       "5 ounces       12\n",
       "4.6 ounces     10\n",
       "Name: count, dtype: int64"
      ]
     },
     "execution_count": 198,
     "metadata": {},
     "output_type": "execute_result"
    }
   ],
   "source": [
    "A['weight'].value_counts()"
   ]
  },
  {
   "cell_type": "code",
   "execution_count": 199,
   "id": "a489c576",
   "metadata": {},
   "outputs": [],
   "source": [
    "A['weight'] = A['weight'].fillna('others')\n",
    "A['weight'] = A['weight'].astype('category')"
   ]
  },
  {
   "cell_type": "code",
   "execution_count": 200,
   "id": "4046858c",
   "metadata": {},
   "outputs": [],
   "source": [
    "def convert_to_grams(value):\n",
    "    if pd.isnull(value):\n",
    "        return np.nan\n",
    "    value = value.lower().strip()\n",
    "    if 'gram' in value:\n",
    "        num = float(value.split()[0])\n",
    "        return num\n",
    "    elif 'pound' in value or 'lbs' in value:\n",
    "        num = float(value.split()[0])\n",
    "        return num * 453.592\n",
    "    elif 'ounce' in value or 'oz' in value:\n",
    "        num = float(value.split()[0])\n",
    "        return num * 28.3495\n",
    "    else:\n",
    "        return np.nan\n",
    "A['weight_grams'] = A['weight'].apply(convert_to_grams)"
   ]
  },
  {
   "cell_type": "code",
   "execution_count": 206,
   "id": "fcb36dac",
   "metadata": {},
   "outputs": [
    {
     "data": {
      "text/plain": [
       "array([205.    , 498.9512,      nan,  45.3592, 793.786 ,  22.6796,\n",
       "       113.398 , 141.7475, 130.4077,  68.0388])"
      ]
     },
     "execution_count": 206,
     "metadata": {},
     "output_type": "execute_result"
    }
   ],
   "source": [
    "A['weight_grams'].unique()"
   ]
  },
  {
   "cell_type": "code",
   "execution_count": 207,
   "id": "27cd0c7a",
   "metadata": {},
   "outputs": [
    {
     "data": {
      "text/plain": [
       "weight_grams\n",
       "793.7860    542\n",
       "498.9512     32\n",
       "205.0000     23\n",
       "45.3592      19\n",
       "113.3980     19\n",
       "68.0388      17\n",
       "22.6796      12\n",
       "141.7475     12\n",
       "130.4077     10\n",
       "Name: count, dtype: int64"
      ]
     },
     "execution_count": 207,
     "metadata": {},
     "output_type": "execute_result"
    }
   ],
   "source": [
    "A['weight_grams'].value_counts()"
   ]
  },
  {
   "cell_type": "code",
   "execution_count": 203,
   "id": "76394c01",
   "metadata": {},
   "outputs": [
    {
     "data": {
      "text/plain": [
       "id                       object\n",
       "categories               object\n",
       "dateAdded                object\n",
       "dateUpdated              object\n",
       "dimension              category\n",
       "manufacturer           category\n",
       "name                     object\n",
       "prices                   object\n",
       "reviews.date           category\n",
       "reviews.doRecommend    category\n",
       "reviews.numHelpful     category\n",
       "reviews.rating         category\n",
       "reviews.username       category\n",
       "weight                 category\n",
       "weight_grams            float64\n",
       "dtype: object"
      ]
     },
     "execution_count": 203,
     "metadata": {},
     "output_type": "execute_result"
    }
   ],
   "source": [
    "A.dtypes"
   ]
  },
  {
   "cell_type": "code",
   "execution_count": 204,
   "id": "03099e1c",
   "metadata": {},
   "outputs": [
    {
     "data": {
      "text/html": [
       "<div>\n",
       "<style scoped>\n",
       "    .dataframe tbody tr th:only-of-type {\n",
       "        vertical-align: middle;\n",
       "    }\n",
       "\n",
       "    .dataframe tbody tr th {\n",
       "        vertical-align: top;\n",
       "    }\n",
       "\n",
       "    .dataframe thead th {\n",
       "        text-align: right;\n",
       "    }\n",
       "</style>\n",
       "<table border=\"1\" class=\"dataframe\">\n",
       "  <thead>\n",
       "    <tr style=\"text-align: right;\">\n",
       "      <th></th>\n",
       "      <th>dimension</th>\n",
       "      <th>manufacturer</th>\n",
       "      <th>reviews.date</th>\n",
       "      <th>reviews.doRecommend</th>\n",
       "      <th>reviews.numHelpful</th>\n",
       "      <th>reviews.rating</th>\n",
       "      <th>reviews.username</th>\n",
       "      <th>weight</th>\n",
       "    </tr>\n",
       "  </thead>\n",
       "  <tbody>\n",
       "    <tr>\n",
       "      <th>count</th>\n",
       "      <td>1597</td>\n",
       "      <td>1597</td>\n",
       "      <td>1597</td>\n",
       "      <td>1597</td>\n",
       "      <td>1597.000000</td>\n",
       "      <td>1597.0</td>\n",
       "      <td>1597</td>\n",
       "      <td>1597</td>\n",
       "    </tr>\n",
       "    <tr>\n",
       "      <th>unique</th>\n",
       "      <td>2</td>\n",
       "      <td>3</td>\n",
       "      <td>383</td>\n",
       "      <td>2</td>\n",
       "      <td>183.000000</td>\n",
       "      <td>5.0</td>\n",
       "      <td>950</td>\n",
       "      <td>10</td>\n",
       "    </tr>\n",
       "    <tr>\n",
       "      <th>top</th>\n",
       "      <td>4.8 in x 6.6 in x 3.2 in</td>\n",
       "      <td>Amazon</td>\n",
       "      <td>others</td>\n",
       "      <td>True</td>\n",
       "      <td>83.584444</td>\n",
       "      <td>5.0</td>\n",
       "      <td>A. Younan</td>\n",
       "      <td>others</td>\n",
       "    </tr>\n",
       "    <tr>\n",
       "      <th>freq</th>\n",
       "      <td>1574</td>\n",
       "      <td>832</td>\n",
       "      <td>380</td>\n",
       "      <td>1561</td>\n",
       "      <td>697.000000</td>\n",
       "      <td>741.0</td>\n",
       "      <td>59</td>\n",
       "      <td>911</td>\n",
       "    </tr>\n",
       "  </tbody>\n",
       "</table>\n",
       "</div>"
      ],
      "text/plain": [
       "                       dimension manufacturer reviews.date  \\\n",
       "count                       1597         1597         1597   \n",
       "unique                         2            3          383   \n",
       "top     4.8 in x 6.6 in x 3.2 in       Amazon       others   \n",
       "freq                        1574          832          380   \n",
       "\n",
       "       reviews.doRecommend  reviews.numHelpful  reviews.rating  \\\n",
       "count                 1597         1597.000000          1597.0   \n",
       "unique                   2          183.000000             5.0   \n",
       "top                   True           83.584444             5.0   \n",
       "freq                  1561          697.000000           741.0   \n",
       "\n",
       "       reviews.username  weight  \n",
       "count              1597    1597  \n",
       "unique              950      10  \n",
       "top           A. Younan  others  \n",
       "freq                 59     911  "
      ]
     },
     "execution_count": 204,
     "metadata": {},
     "output_type": "execute_result"
    }
   ],
   "source": [
    "A.describe(include='category')"
   ]
  },
  {
   "cell_type": "code",
   "execution_count": 205,
   "id": "32eff8ae",
   "metadata": {},
   "outputs": [],
   "source": [
    "A.to_excel(\"Amazon.xlsx\", index=False)"
   ]
  },
  {
   "cell_type": "code",
   "execution_count": 211,
   "id": "483dcba7",
   "metadata": {},
   "outputs": [
    {
     "data": {
      "text/plain": [
       "np.float64(494.57246875)"
      ]
     },
     "execution_count": 211,
     "metadata": {},
     "output_type": "execute_result"
    }
   ],
   "source": [
    "nm = A[A['weight_grams'] < 793]['weight_grams'].mean()\n",
    "nm1 = A[A[\"weight_grams\"] > 793][\"weight_grams\"].mean()\n",
    "(nm+nm1)/2"
   ]
  },
  {
   "cell_type": "code",
   "execution_count": 215,
   "id": "0910df14",
   "metadata": {},
   "outputs": [
    {
     "data": {
      "image/png": "[encoded data removed]",
      "text/plain": [
       "<Figure size 1200x600 with 1 Axes>"
      ]
     },
     "metadata": {},
     "output_type": "display_data"
    }
   ],
   "source": [
    "df_clean = A.dropna(subset=['weight_grams'])\n",
    "df_counts = df_clean['weight_grams'].value_counts().sort_index()\n",
    "\n",
    "# Plot \n",
    "plt.figure(figsize=(12, 6)) \n",
    "plt.bar(df_counts.index.astype(str), df_counts.values)\n",
    "plt.xlabel('Weight in Grams')\n",
    "plt.ylabel('Count')\n",
    "plt.title('Count of Items by Weight (in grams)')\n",
    "plt.xticks(rotation=45)\n",
    "plt.tight_layout()\n",
    "plt.show()"
   ]
  },
  {
   "cell_type": "code",
   "execution_count": null,
   "id": "c6c28b75",
   "metadata": {},
   "outputs": [],
   "source": []
  }
 ],
 "metadata": {
  "kernelspec": {
   "display_name": "env1",
   "language": "python",
   "name": "python3"
  },
  "language_info": {
   "codemirror_mode": {
    "name": "ipython",
    "version": 3
   },
   "file_extension": ".py",
   "mimetype": "text/x-python",
   "name": "python",
   "nbconvert_exporter": "python",
   "pygments_lexer": "ipython3",
   "version": "3.13.3"
  }
 },
 "nbformat": 4,
 "nbformat_minor": 5
}
